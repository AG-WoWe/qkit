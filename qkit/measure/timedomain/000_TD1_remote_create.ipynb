{
 "metadata": {
  "name": "",
  "signature": "sha256:5ec1685b5296c71547f1bc0ae399187556791eac2cf02c2d99686b9971e7d4cf"
 },
 "nbformat": 3,
 "nbformat_minor": 0,
 "worksheets": [
  {
   "cells": [
    {
     "cell_type": "heading",
     "level": 4,
     "metadata": {},
     "source": [
      "Additional local instruments for TD measurements"
     ]
    },
    {
     "cell_type": "code",
     "collapsed": false,
     "input": [
      "IVVI = qt.instruments.create('IVVI', 'IVVIDIG_main', address='COM6') #coil IVVI #COM6 is D\n",
      "vcoil = qt.instruments.create('vcoil', 'Virtual_Coil',dacs=[5],dacranges=['bi'])"
     ],
     "language": "python",
     "metadata": {},
     "outputs": [],
     "prompt_number": 4
    },
    {
     "cell_type": "code",
     "collapsed": false,
     "input": [
      "vcoil.set_range('10m')"
     ],
     "language": "python",
     "metadata": {},
     "outputs": [
      {
       "metadata": {},
       "output_type": "pyout",
       "prompt_number": 5,
       "text": [
        "True"
       ]
      }
     ],
     "prompt_number": 5
    },
    {
     "cell_type": "code",
     "collapsed": false,
     "input": [
      "tip = qt.instruments.create('tip','tip_client',address='pi-us74')   #tip raspberry instance\n",
      "tip.get_T()"
     ],
     "language": "python",
     "metadata": {},
     "outputs": [
      {
       "output_type": "stream",
       "stream": "stdout",
       "text": [
        "TIP client connected to TIP server at pi-us74 port 9999\n",
        "\n"
       ]
      },
      {
       "metadata": {},
       "output_type": "pyout",
       "prompt_number": 6,
       "text": [
        "0.044548786079"
       ]
      }
     ],
     "prompt_number": 6
    },
    {
     "cell_type": "code",
     "collapsed": false,
     "input": [
      "fastawg = qt.instruments.create('fastawg','Tektronix_AWG7062', address = 'TCPIP0::10.22.197.40::inst0::INSTR')\n",
      "#fastawg = qt.instruments.create('fastawg','Tektronix_AWG7062', address = 'TCPIP0::AWG::inst0::INSTR')"
     ],
     "language": "python",
     "metadata": {},
     "outputs": [],
     "prompt_number": 8
    },
    {
     "cell_type": "raw",
     "metadata": {},
     "source": [
      "Tektronix AWG settings:\n",
      "    clock to external reference\n",
      "    trigger to ext in, 1.4V is ok"
     ]
    },
    {
     "cell_type": "code",
     "collapsed": false,
     "input": [
      "swb = qt.instruments.create('swb', 'two_port_switch')\n",
      "swb.ch1()"
     ],
     "language": "python",
     "metadata": {},
     "outputs": [
      {
       "output_type": "stream",
       "stream": "stdout",
       "text": [
        "successfully switched to port #1\n"
       ]
      }
     ],
     "prompt_number": 9
    },
    {
     "cell_type": "code",
     "collapsed": false,
     "input": [
      "tawg = qt.instruments.create('tawg','Tabor_WX1284C', address = 'TCPIP0::10.22.197.41::5025::SOCKET')"
     ],
     "language": "python",
     "metadata": {},
     "outputs": [
      {
       "output_type": "stream",
       "stream": "stderr",
       "text": [
        "C:\\Python27\\lib\\site-packages\\pyvisa\\visa.py:433: UserWarning: read string doesn't end with termination characters\n",
        "  return self._strip_term_chars(self.read_raw())\n",
        "WARNING:root:command trigger impedance not supported\n"
       ]
      },
      {
       "output_type": "stream",
       "stream": "stdout",
       "text": [
        "The device is set up with 4 channels. You use the channels [1, 2, 3, 4]\n"
       ]
      }
     ],
     "prompt_number": 10
    },
    {
     "cell_type": "code",
     "collapsed": false,
     "input": [
      "qt.msleep(5)"
     ],
     "language": "python",
     "metadata": {},
     "outputs": [],
     "prompt_number": 11
    },
    {
     "cell_type": "heading",
     "level": 3,
     "metadata": {},
     "source": [
      "QTlab remote connect"
     ]
    },
    {
     "cell_type": "code",
     "collapsed": false,
     "input": [
      "##Instrument.server.socket.settimeout(10)\n",
      "\n",
      "print \"Connecting to markusPC (10.22.197.2) ...\"\n",
      "remote_instrument.objsh.start_glibtcp_client('10.22.197.2')\n",
      "\n",
      "print \"Loading instruments...\"\n",
      "#attn = remote_instrument.create('qtlab_timedomain','attn','')\n",
      "#eth = remote_instrument.create('qtlab_timedomain','eth','')\n",
      "#ftdidaq = remote_instrument.create('qtlab_timedomain','ftdidaq','')\n",
      "#fastawg = remote_instrument.create('qtlab_timedomain','fastawg','') #use fastawg directly to get faster performance in updating\n",
      "#ghz = remote_instrument.create('qtlab_timedomain','ghz','')\n",
      "#ghzawg = remote_instrument.create('qtlab_timedomain','ghzawg','')\n",
      "sync = remote_instrument.create('qtlab_timedomain','pulser','')\n",
      "#readout = remote_instrument.create('qtlab_timedomain','readout','')\n",
      "#spec = remote_instrument.create('qtlab_timedomain','spec','')\n",
      "mspec = remote_instrument.create('qtlab_timedomain','mspec','')\n",
      "mw_src2 = remote_instrument.create('qtlab_timedomain','mw_src2','')\n",
      "mw_src1 = remote_instrument.create('qtlab_timedomain','mw_src1','')\n",
      "\n",
      "#6 DC current sources \n",
      "#tedac=remote_instrument.create('qtlab_timedomain','tedac','')\n",
      "print 'sleep...'\n",
      "qt.msleep(6)\n",
      "print \"Finished!\""
     ],
     "language": "python",
     "metadata": {},
     "outputs": [
      {
       "output_type": "stream",
       "stream": "stdout",
       "text": [
        "Connecting to markusPC (10.22.197.2) ...\n",
        "Loading instruments..."
       ]
      },
      {
       "output_type": "stream",
       "stream": "stdout",
       "text": [
        "\n",
        "sleep..."
       ]
      },
      {
       "output_type": "stream",
       "stream": "stdout",
       "text": [
        "\n",
        "Finished!"
       ]
      },
      {
       "output_type": "stream",
       "stream": "stdout",
       "text": [
        "\n"
       ]
      }
     ],
     "prompt_number": 12
    },
    {
     "cell_type": "code",
     "collapsed": false,
     "input": [],
     "language": "python",
     "metadata": {},
     "outputs": []
    }
   ],
   "metadata": {}
  }
 ]
}
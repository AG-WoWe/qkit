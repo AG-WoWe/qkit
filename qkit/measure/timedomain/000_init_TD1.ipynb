{
 "metadata": {
  "name": "",
  "signature": "sha256:f85db1773233301f08d713c7998d0d0535ae1354189cc7046c74b9c84237291d"
 },
 "nbformat": 3,
 "nbformat_minor": 0,
 "worksheets": [
  {
   "cells": [
    {
     "cell_type": "code",
     "collapsed": false,
     "input": [
      "import matplotlib.pyplot as plt\n",
      "import qkit.analysis.dat_reader as dr\n",
      "import time\n",
      "%matplotlib inline\n",
      "import qkit.measure.timedomain.awg.load_awg as load_awg\n",
      "import qkit.measure.samples_class as sc\n",
      "import qkit.measure.timedomain.measure_td as mtd\n",
      "import qkit.measure.timedomain.awg.generate_waveform as gwf\n",
      "from qkit.gui.notebook.Progress_Bar import Progress_Bar\n",
      "from qkit.instruments import virtual_MultiplexingReadout as readout\n",
      "m = mtd.Measure_td()"
     ],
     "language": "python",
     "metadata": {},
     "outputs": []
    },
    {
     "cell_type": "heading",
     "level": 1,
     "metadata": {},
     "source": [
      "Starting values"
     ]
    },
    {
     "cell_type": "markdown",
     "metadata": {},
     "source": [
      "Set the overall parameters for your measurement\n",
      "- **T_rep** is the repetition frequency for your meausrements. It should be something like 5*T1\n",
      "- **clock** is the samplerate of the AWG used for qubit manipulation\n",
      "- **exc_T** is the length of the window of the qubit AWG"
     ]
    },
    {
     "cell_type": "code",
     "collapsed": false,
     "input": [
      "qubit = sc.Sample()"
     ],
     "language": "python",
     "metadata": {},
     "outputs": []
    },
    {
     "cell_type": "code",
     "collapsed": false,
     "input": [
      "qubit.load('d:/20160530/105700.sample')"
     ],
     "language": "python",
     "metadata": {},
     "outputs": []
    },
    {
     "cell_type": "code",
     "collapsed": false,
     "input": [
      "qubit.set_exc_T(11e-6)\n",
      "qubit.T_rep = 70e-6"
     ],
     "language": "python",
     "metadata": {},
     "outputs": []
    },
    {
     "cell_type": "code",
     "collapsed": false,
     "input": [
      "qubit.set_name('sb11ch9_run15')\n",
      "qubit.set_comment('connected to Tektronix BiasT, 75Ohm current divider in dc line 16')"
     ],
     "language": "python",
     "metadata": {},
     "outputs": []
    },
    {
     "cell_type": "code",
     "collapsed": false,
     "input": [
      "qubit.readout_mw_source = mw_src1"
     ],
     "language": "python",
     "metadata": {},
     "outputs": []
    },
    {
     "cell_type": "code",
     "collapsed": false,
     "input": [
      "qubit.save()"
     ],
     "language": "python",
     "metadata": {},
     "outputs": []
    },
    {
     "cell_type": "heading",
     "level": 3,
     "metadata": {},
     "source": [
      "Getting started with the time domain setup - Pulser (sync) and mspec defaults"
     ]
    },
    {
     "cell_type": "code",
     "collapsed": false,
     "input": [
      "sync.set_ch1_delay(10e-6)   #this is a good starting value"
     ],
     "language": "python",
     "metadata": {},
     "outputs": []
    },
    {
     "cell_type": "code",
     "collapsed": false,
     "input": [
      "sync.set_ch1_high(4) #Set ch1 output of pulser to 4V\n",
      "sync.set_ch1_low(0)\n",
      "#qubit.readout_mw_source.set_power(+12) #enable LO   #maybe a bit more is better, e.g. 17dBm\n",
      "#qubit.readout_mw_source.set_status(1)"
     ],
     "language": "python",
     "metadata": {},
     "outputs": []
    },
    {
     "cell_type": "markdown",
     "metadata": {},
     "source": [
      "Set the repetition rate of the measurement on the pulser. 5T1 is a good value here."
     ]
    },
    {
     "cell_type": "code",
     "collapsed": false,
     "input": [
      "f = round(1/qubit.T_rep,3)\n",
      "print f, 'Hz'\n",
      "sync.set_frequency(f)\n",
      "sync.set_ch1_status('on')"
     ],
     "language": "python",
     "metadata": {},
     "outputs": []
    },
    {
     "cell_type": "code",
     "collapsed": false,
     "input": [
      "mspec.set_trigger_rate(1/float(qubit.T_rep))   #let the adc card know about that"
     ],
     "language": "python",
     "metadata": {},
     "outputs": []
    },
    {
     "cell_type": "code",
     "collapsed": false,
     "input": [
      "if 1/sync.get_frequency()!=qubit.T_rep:\n",
      "    raise ValueError(\"Pulser did not accept your repetition frequency. Maybe you have to change the pulse length manually\")"
     ],
     "language": "python",
     "metadata": {},
     "outputs": []
    },
    {
     "cell_type": "heading",
     "level": 4,
     "metadata": {},
     "source": [
      "Specifying roles of AWGs"
     ]
    },
    {
     "cell_type": "code",
     "collapsed": false,
     "input": [
      "qubit.readout_awg = fastawg\n",
      "qubit.awg = tawg"
     ],
     "language": "python",
     "metadata": {},
     "outputs": []
    },
    {
     "cell_type": "heading",
     "level": 4,
     "metadata": {},
     "source": [
      "Setup readout"
     ]
    },
    {
     "cell_type": "code",
     "collapsed": false,
     "input": [
      "readout = qt.instruments.create('readout','virtual_MultiplexingReadout',qubit.readout_awg,qubit.readout_mw_source,qubit.readout_mw_source,mspec,qubit)"
     ],
     "language": "python",
     "metadata": {},
     "outputs": []
    },
    {
     "cell_type": "code",
     "collapsed": false,
     "input": [
      "readout.set_LO(qubit.fr+qubit.readout_iq_frequency)   #set LO higher and use mixer as a down-converter\n",
      "readout.set_tone_freq([qubit.fr])   #probe tone frequency\n",
      "readout.set_tone_pha([1.3])   #phase shift (usually not necessary)      -0.1 is nice \n",
      "readout.set_tone_relamp([1])   #relative amplitude of tone\n",
      "readout.set_dac_duration(qubit.readout_tone_length)\n",
      "readout.set_dac_delay(0)\n",
      "readout.update()"
     ],
     "language": "python",
     "metadata": {},
     "outputs": []
    },
    {
     "cell_type": "code",
     "collapsed": false,
     "input": [
      "#--> Markus PC mspec.set_gate_func ..."
     ],
     "language": "python",
     "metadata": {},
     "outputs": []
    },
    {
     "cell_type": "heading",
     "level": 4,
     "metadata": {},
     "source": [
      "Make Tabor ready for manipulation"
     ]
    },
    {
     "cell_type": "code",
     "collapsed": false,
     "input": [
      "tawg.preset()"
     ],
     "language": "python",
     "metadata": {},
     "outputs": []
    },
    {
     "cell_type": "markdown",
     "metadata": {},
     "source": [
      "Important Tabor settings, not fully functinal yet via remote:\n",
      "    \n",
      "* common trigger\n",
      "* external clock reference 10 MHz"
     ]
    },
    {
     "cell_type": "code",
     "collapsed": false,
     "input": [
      "for pair in [1,2]:\n",
      "    tawg.set('p%i_runmode'%pair,'SEQ')\n",
      "    tawg.set('p%i_trigger_mode'%pair,'TRIG')\n",
      "    tawg.set('p%i_trigger_source'%pair,'EXT')\n",
      "    tawg.set('p%i_sequence_mode'%pair,'STEP')"
     ],
     "language": "python",
     "metadata": {},
     "outputs": []
    },
    {
     "cell_type": "heading",
     "level": 4,
     "metadata": {},
     "source": [
      "Adjust windows"
     ]
    },
    {
     "cell_type": "code",
     "collapsed": false,
     "input": [
      "qubit.sync_delay = qubit.exc_T - 0.8e-6\n",
      "sync.set_ch1_delay(qubit.sync_delay)"
     ],
     "language": "python",
     "metadata": {},
     "outputs": []
    },
    {
     "cell_type": "code",
     "collapsed": false,
     "input": [
      "qubit.overlap = 0.8e-6   #overlap time of Qubit and Readout AWG windows in s"
     ],
     "language": "python",
     "metadata": {},
     "outputs": []
    },
    {
     "cell_type": "code",
     "collapsed": false,
     "input": [
      "#qubit.update_instruments()\n",
      "qubit.qubit_mw_src.set_status(0)\n",
      "load_awg.update_sequence([qubit.exc_T*.9], gwf.square, qubit)\n",
      "mspec.spec_stop()\n",
      "mspec.set_segments(1)\n",
      "mspec.set_blocks(1)"
     ],
     "language": "python",
     "metadata": {},
     "outputs": []
    },
    {
     "cell_type": "markdown",
     "metadata": {},
     "source": [
      "Record a single measurement (without averaging) and make sure that there is a smooth signal which does not clip (repeat it)\n",
      "- If the amplitude is smaller than 3, check your connections<br>\n",
      "- If you see a signal, adjust the Voltage of the power supply for the amplifiers (on top of the measurement rack) to avoid clipping\n",
      "\n",
      "**Trigger level for ADC card: +2.5V (+4) / 0V and Tabor trigger in high ohmic**"
     ]
    },
    {
     "cell_type": "code",
     "collapsed": false,
     "input": [
      "%matplotlib inline"
     ],
     "language": "python",
     "metadata": {},
     "outputs": []
    },
    {
     "cell_type": "heading",
     "level": 4,
     "metadata": {},
     "source": [
      "record single probe tone signal and plot"
     ]
    },
    {
     "cell_type": "code",
     "collapsed": false,
     "input": [
      "qubit.qubit_mw_src.set_status(0)\n",
      "mspec.spec_stop()\n",
      "mspec.set_spec_trigger_delay(0)\n",
      "mspec.set_samples(1024)\n",
      "mspec.set_averages(1)\n",
      "plt.figure(figsize=(18,7))\n",
      "plt.plot(mspec.acquire())\n",
      "plt.xticks(arange(0,mspec.get_samples(),32))\n",
      "plt.xlim((0,mspec.get_samples()))\n",
      "plt.grid()\n",
      "plt.xlabel('samples, 500MHz samplerate: 1sample = 2ns')\n",
      "plt.ylabel('amplitude')\n",
      "samples=[mspec.acquire() for i in range(5)]\n",
      "clips=np.size(np.where(np.array(samples).flatten()==127))+np.size(np.where(np.array(samples).flatten()==-128))\n",
      "if clips > 50:\n",
      "    print \"Clipping detected, please reduce amplifier voltage\"\n",
      "elif clips > 3:\n",
      "    print \"In 5 measurements, only %i points had the maximum amplitude. This sounds good, go on.\"%clips\n",
      "elif np.max(samples)<50:\n",
      "    print \"No signal detected. Check your wiring!\"\n",
      "else:\n",
      "    print \"Amplitude seems a bit low. Think about increasing the Voltage of the amplifier\""
     ],
     "language": "python",
     "metadata": {},
     "outputs": []
    },
    {
     "cell_type": "heading",
     "level": 4,
     "metadata": {},
     "source": [
      "record average signal and plot"
     ]
    },
    {
     "cell_type": "code",
     "collapsed": false,
     "input": [
      "mspec.spec_stop()\n",
      "mspec.set_spec_trigger_delay(0)\n",
      "mspec.set_samples(512)\n",
      "mspec.set_averages(1e3)\n",
      "mspec.set_segments(1)\n",
      "plt.figure(figsize=(18,7))\n",
      "plt.plot(mspec.acquire())\n",
      "if mspec.get_samples() > 512:\n",
      "    plt.xticks(arange(0,mspec.get_samples(),32))\n",
      "else:\n",
      "    plt.xticks(arange(0,mspec.get_samples(),16))\n",
      "plt.xlim((0,mspec.get_samples()))\n",
      "plt.grid()\n",
      "plt.xlabel('samples, 500MHz samplerate: 1sample = 2ns')\n",
      "plt.ylabel('amplitude')"
     ],
     "language": "python",
     "metadata": {},
     "outputs": []
    },
    {
     "cell_type": "markdown",
     "metadata": {},
     "source": [
      "Then set the 2nd microwave to the readout tone, so that it can be seen as a DC signal in the plot.<br>"
     ]
    },
    {
     "cell_type": "code",
     "collapsed": false,
     "input": [
      "qubit.qubit_mw_src.set_power(-6)\n",
      "qubit.qubit_mw_src.set_frequency(mw_src1.get_frequency())\n",
      "qubit.qubit_mw_src.set_status(1)   #switch on mw source"
     ],
     "language": "python",
     "metadata": {},
     "outputs": []
    },
    {
     "cell_type": "markdown",
     "metadata": {},
     "source": [
      "Adjust the timing such that the (DC)pulse stops right before the readout tone comes. Typical values are shown below\n",
      "\n",
      "+++ **Roughly adjust the two pulses using the oscilloscope, then do the fine adjustment by adjusting qubit.overlap and reload the readout pulse** +++"
     ]
    },
    {
     "cell_type": "markdown",
     "metadata": {},
     "source": [
      "In the plot below, you see one measurement without 2nd microwave (dashed) and one with 2nd tone (points)<br>\n",
      "Adjust (the delay above) **qubit.overlap** to have the jump in the blue signal right where the green signal starts (So the 2nd tone just finishes before the readout tone comes)"
     ]
    },
    {
     "cell_type": "code",
     "collapsed": false,
     "input": [
      "qubit.overlap = 0.8e-6"
     ],
     "language": "python",
     "metadata": {},
     "outputs": []
    },
    {
     "cell_type": "code",
     "collapsed": false,
     "input": [
      "load_awg.update_sequence([100e-9], gwf.square, qubit)\n",
      "mspec.spec_stop()\n",
      "mspec.set_segments(1)\n",
      "mspec.set_blocks(1)"
     ],
     "language": "python",
     "metadata": {},
     "outputs": []
    },
    {
     "cell_type": "code",
     "collapsed": false,
     "input": [
      "record single probe tone signal and plot"
     ],
     "language": "python",
     "metadata": {},
     "outputs": []
    },
    {
     "cell_type": "code",
     "collapsed": false,
     "input": [
      "mspec.set_averages(1e3)\n",
      "mspec.set_spec_trigger_delay(96)\n",
      "mspec.set_samples(512)\n",
      "plt.figure(figsize=(18,7))\n",
      "qubit.qubit_mw_src.set_status(1)\n",
      "#qt.msleep(1)\n",
      "plt.plot(mspec.acquire())\n",
      "qubit.qubit_mw_src.set_status(0)\n",
      "#qt.msleep(1)\n",
      "plt.plot(mspec.acquire(),'--k')\n",
      "if mspec.get_samples() > 512:\n",
      "    plt.xticks(arange(0,mspec.get_samples(),32))\n",
      "else:\n",
      "    plt.xticks(arange(0,mspec.get_samples(),16))\n",
      "plt.xlim((0,mspec.get_samples()))\n",
      "plt.grid()\n",
      "plt.xlabel('samples, 500MHz samplerate: 1sample = 2ns')\n",
      "plt.ylabel('amplitude')"
     ],
     "language": "python",
     "metadata": {},
     "outputs": []
    },
    {
     "cell_type": "markdown",
     "metadata": {},
     "source": [
      "Now you have to adjust the starting point and length of your window for your measurement.\n",
      "\n",
      "Typically, I makes sense to choose a window that is as large as possible, maybe skipping the ringup of the resonator and even adding some zeros at the end (zero padding), corresponding to a numercal interpolation in the Fourier space."
     ]
    },
    {
     "cell_type": "code",
     "collapsed": false,
     "input": [
      "first_sample  = 272\n",
      "last_sample = 400\n",
      "qubit.acqu_window = [first_sample,last_sample]"
     ],
     "language": "python",
     "metadata": {},
     "outputs": []
    },
    {
     "cell_type": "code",
     "collapsed": false,
     "input": [
      "print 'acquisition window length: %.3g, %.3g'%(qubit.acqu_window[0],qubit.acqu_window[1])\n",
      "mspec.spec_stop()\n",
      "mspec.set_spec_trigger_delay(qubit.acqu_window[0])\n",
      "mspec.set_samples(qubit.acqu_window[1] - qubit.acqu_window[0])\n",
      "qubit.qubit_mw_src.set_status(0)"
     ],
     "language": "python",
     "metadata": {},
     "outputs": []
    },
    {
     "cell_type": "code",
     "collapsed": false,
     "input": [
      "#record single probe tone signal and plot\n",
      "mspec.set_averages(1e3)\n",
      "plt.figure(figsize=(18,7))\n",
      "plt.plot(mspec.acquire())\n",
      "if mspec.get_samples() > 512:\n",
      "    plt.xticks(arange(0,mspec.get_samples(),32))\n",
      "else:\n",
      "    plt.xticks(arange(0,mspec.get_samples(),16))\n",
      "plt.xlim((0,mspec.get_samples()))\n",
      "plt.grid()\n",
      "plt.xlabel('samples, 500MHz samplerate: 1sample = 2ns')\n",
      "plt.ylabel('amplitude')"
     ],
     "language": "python",
     "metadata": {},
     "outputs": []
    },
    {
     "cell_type": "code",
     "collapsed": false,
     "input": [
      "qubit.save()"
     ],
     "language": "python",
     "metadata": {},
     "outputs": []
    }
   ],
   "metadata": {}
  }
 ]
}
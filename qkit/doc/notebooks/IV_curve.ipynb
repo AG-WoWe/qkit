{
 "cells": [
  {
   "cell_type": "markdown",
   "metadata": {},
   "source": [
    "# Analyze transport data\n",
    "This is an example notebook for the analysis class `IV_curve` of `qkit.analysis.IV_curve.py`. This handels transport measurment data (focussed of measurements of Josephson junctions in the current bias) taken with `qkit.measure.transport.transport.py` and provides methods for\n",
    " * loading data\n",
    " * analyse voltage and current offsets\n",
    " * analyse critical currents and voltage jumps"
   ]
  },
  {
   "cell_type": "code",
   "execution_count": null,
   "metadata": {},
   "outputs": [],
   "source": [
    "import numpy as np\n",
    "from scipy import signal as sig\n",
    "import matplotlib.pyplot as plt"
   ]
  },
  {
   "cell_type": "code",
   "execution_count": null,
   "metadata": {},
   "outputs": [],
   "source": [
    "import qkit\n",
    "qkit.start()"
   ]
  },
  {
   "cell_type": "code",
   "execution_count": null,
   "metadata": {},
   "outputs": [],
   "source": [
    "from qkit.analysis.IV_curve import IV_curve as IVC\n",
    "ivc = IVC()"
   ]
  },
  {
   "cell_type": "markdown",
   "metadata": {},
   "source": [
    "#### read h5 file\n",
    "Load transport measurement data by given `uuid`."
   ]
  },
  {
   "cell_type": "code",
   "execution_count": null,
   "metadata": {},
   "outputs": [],
   "source": [
    "ivc.load(uuid='XXXXXX')"
   ]
  },
  {
   "cell_type": "markdown",
   "metadata": {},
   "source": [
    "#### numerical derivative $\\frac{\\text{d}V}{\\text{d}I}$\n",
    "The numerical derivative is caclulated by default using the Savitzky Golay filter, but different methods can be used, e.g. a simple numerical gradient `ivc.get_dVdI(mode=np.gradient)`"
   ]
  },
  {
   "cell_type": "code",
   "execution_count": null,
   "metadata": {},
   "outputs": [],
   "source": [
    "ivc.get_dVdI()"
   ]
  },
  {
   "cell_type": "markdown",
   "metadata": {},
   "source": [
    "### current and voltage offsets\n",
    "The branch where the y-values are nearly constant are evaluated. The average of all corresponding x-values is considered to be the x-offset and the average of the extreme y-values are considered as y-offset. These are by default the critical y-values $ y_c$, but can also be set to retrapping y-values $ y_r $ if `yr=True`\n",
    " * `ivc.get_offsets()` calculates x- and y-offset of every trace,\n",
    " * `ivc.get_offset()` calculates x- and y-offset of the whole set (this differs only for 2D or 3D scans).\n",
    " \n",
    "Note that reasonable initial values `offset` and `tol_offset` are sufficient."
   ]
  },
  {
   "cell_type": "code",
   "execution_count": null,
   "metadata": {},
   "outputs": [],
   "source": [
    "ivc.get_offsets(offset=0, tol_offset=20e-6)"
   ]
  },
  {
   "cell_type": "code",
   "execution_count": null,
   "metadata": {},
   "outputs": [],
   "source": [
    "ivc.get_offset(offset=0, tol_offset=20e-6)"
   ]
  },
  {
   "cell_type": "markdown",
   "metadata": {},
   "source": [
    "#### get $ I_c $ via threshold methode\n",
    "The branch where the voltage values are nearly constant are evaluated. Their maximal values of the up- and down-sweep are considered as critical currents $ I_c $ and retrapping current $ I_r $ (if `Ir=True`), respectively.\n",
    "\n",
    "Note that it works best, if `offset` is already determined via `get_offsets()` and that reasonable initial value `tol_offset` are sufficient."
   ]
  },
  {
   "cell_type": "code",
   "execution_count": null,
   "metadata": {},
   "outputs": [],
   "source": [
    "ivc.get_Ic_threshold(Ir=True)"
   ]
  },
  {
   "cell_type": "markdown",
   "metadata": {},
   "source": [
    "#### get $ I_c $ via peak detection in derivative\n",
    "The critical currents $ I_c $ are found by searching peaks in the numerical derivative $ \\frac{\\text{d}V}{\\text{d}I} $. This is done using `scipy.signal.find_peaks()` by default, but can set to custom peak finding algorithms `peak_finder`.\n",
    "\n",
    "Note that the arguments of the peak finding algorithms need to be set properly, e.g. `prominence` for `scipy.signal.find_peaks()`."
   ]
  },
  {
   "cell_type": "code",
   "execution_count": null,
   "metadata": {},
   "outputs": [],
   "source": [
    "I_cs, I_rs, props = ivc.get_Ic_deriv(prominence=400, Ir=True)\n",
    "I_cs, I_rs"
   ]
  },
  {
   "cell_type": "code",
   "execution_count": null,
   "metadata": {},
   "outputs": [],
   "source": [
    "print('all currents, where voltage jumps')\n",
    "if ivc._scan_dim == 1:\n",
    "    print(np.array(map(lambda p1D: p1D['I'], props)))\n",
    "elif ivc._scan_dim == 2:\n",
    "    print(np.array(map(lambda p2D: map(lambda p1D: p1D['I'], p2D), props)))\n",
    "elif ivc._scan_dim == 3:\n",
    "    print(np.array(map(lambda p3D: map(lambda p2D: map(lambda p1D: p1D['I'], p2D), p3D), props)))"
   ]
  },
  {
   "cell_type": "markdown",
   "metadata": {},
   "source": [
    "#### get $ I_c $ via peak detection Fourier transform\n",
    "The critical currents $ I_c $ are found by searching peaks in the Gaussian smoothed derivation $ \\left(\\text{i}f\\cdot\\text{e}^{-sf^2}\\right) $ in the frequency domain. This is done using `scipy.signal.find_peaks()` by default, but can set to custom peak finding algorithms `peak_finder`.\n",
    "\n",
    "Note that the smoothing factor `s` and the arguments of the peak finding algorithms need to be set properly, e.g. `prominence` for `scipy.signal.find_peaks()`."
   ]
  },
  {
   "cell_type": "code",
   "execution_count": null,
   "metadata": {},
   "outputs": [],
   "source": [
    "I_cs, I_rs, props = ivc.get_Ic_dft(Ir=True, prominence=1.5e-6)\n",
    "I_cs, I_rs"
   ]
  },
  {
   "cell_type": "code",
   "execution_count": null,
   "metadata": {},
   "outputs": [],
   "source": []
  }
 ],
 "metadata": {
  "kernelspec": {
   "display_name": "Python 2",
   "language": "python",
   "name": "python2"
  },
  "language_info": {
   "codemirror_mode": {
    "name": "ipython",
    "version": 2
   },
   "file_extension": ".py",
   "mimetype": "text/x-python",
   "name": "python",
   "nbconvert_exporter": "python",
   "pygments_lexer": "ipython2",
   "version": "2.7.15"
  }
 },
 "nbformat": 4,
 "nbformat_minor": 2
}

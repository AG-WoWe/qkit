{
 "metadata": {
  "name": "",
  "signature": "sha256:dc4352bdd458679bf97d4ffb8671b3106c859b41d67da7353ed33d78ed320b9d"
 },
 "nbformat": 3,
 "nbformat_minor": 0,
 "worksheets": [
  {
   "cells": [
    {
     "cell_type": "code",
     "collapsed": false,
     "input": [
      "import matplotlib.pyplot as plt"
     ],
     "language": "python",
     "metadata": {},
     "outputs": [],
     "prompt_number": 1
    },
    {
     "cell_type": "code",
     "collapsed": false,
     "input": [
      "%matplotlib inline"
     ],
     "language": "python",
     "metadata": {},
     "outputs": [],
     "prompt_number": 2
    },
    {
     "cell_type": "code",
     "collapsed": false,
     "input": [
      "#import rpyc"
     ],
     "language": "python",
     "metadata": {},
     "outputs": [],
     "prompt_number": 1
    },
    {
     "cell_type": "code",
     "collapsed": false,
     "input": [
      "#c = rpyc.connect('pi-us56',9947)"
     ],
     "language": "python",
     "metadata": {},
     "outputs": [],
     "prompt_number": 2
    },
    {
     "cell_type": "code",
     "collapsed": false,
     "input": [
      "#t, v = c.root.get_history('pLL',2)"
     ],
     "language": "python",
     "metadata": {},
     "outputs": [],
     "prompt_number": 43
    },
    {
     "cell_type": "code",
     "collapsed": false,
     "input": [
      "import numpy as np"
     ],
     "language": "python",
     "metadata": {},
     "outputs": [],
     "prompt_number": 3
    },
    {
     "cell_type": "code",
     "collapsed": false,
     "input": [
      "x = np.arange(101.)"
     ],
     "language": "python",
     "metadata": {},
     "outputs": [],
     "prompt_number": 50
    },
    {
     "cell_type": "code",
     "collapsed": false,
     "input": [
      "binsize = len(x)/100\n",
      "binsize"
     ],
     "language": "python",
     "metadata": {},
     "outputs": [
      {
       "metadata": {},
       "output_type": "pyout",
       "prompt_number": 51,
       "text": [
        "1"
       ]
      }
     ],
     "prompt_number": 51
    },
    {
     "cell_type": "code",
     "collapsed": false,
     "input": [
      "nchunks = 100"
     ],
     "language": "python",
     "metadata": {},
     "outputs": [],
     "prompt_number": 52
    },
    {
     "cell_type": "code",
     "collapsed": false,
     "input": [
      "chunks = np.array(np.split(x[:(len(x)-len(x)%nchunks)],nchunks))"
     ],
     "language": "python",
     "metadata": {},
     "outputs": [],
     "prompt_number": 53
    },
    {
     "cell_type": "code",
     "collapsed": false,
     "input": [
      "len(chunks)"
     ],
     "language": "python",
     "metadata": {},
     "outputs": [
      {
       "metadata": {},
       "output_type": "pyout",
       "prompt_number": 54,
       "text": [
        "100"
       ]
      }
     ],
     "prompt_number": 54
    },
    {
     "cell_type": "code",
     "collapsed": false,
     "input": [
      "data = np.mean(chunks,axis=1)"
     ],
     "language": "python",
     "metadata": {},
     "outputs": [],
     "prompt_number": 55
    },
    {
     "cell_type": "code",
     "collapsed": false,
     "input": [
      "len(data)"
     ],
     "language": "python",
     "metadata": {},
     "outputs": [
      {
       "metadata": {},
       "output_type": "pyout",
       "prompt_number": 56,
       "text": [
        "100"
       ]
      }
     ],
     "prompt_number": 56
    },
    {
     "cell_type": "code",
     "collapsed": false,
     "input": [
      "data"
     ],
     "language": "python",
     "metadata": {},
     "outputs": [
      {
       "metadata": {},
       "output_type": "pyout",
       "prompt_number": 57,
       "text": [
        "array([  0.,   1.,   2.,   3.,   4.,   5.,   6.,   7.,   8.,   9.,  10.,\n",
        "        11.,  12.,  13.,  14.,  15.,  16.,  17.,  18.,  19.,  20.,  21.,\n",
        "        22.,  23.,  24.,  25.,  26.,  27.,  28.,  29.,  30.,  31.,  32.,\n",
        "        33.,  34.,  35.,  36.,  37.,  38.,  39.,  40.,  41.,  42.,  43.,\n",
        "        44.,  45.,  46.,  47.,  48.,  49.,  50.,  51.,  52.,  53.,  54.,\n",
        "        55.,  56.,  57.,  58.,  59.,  60.,  61.,  62.,  63.,  64.,  65.,\n",
        "        66.,  67.,  68.,  69.,  70.,  71.,  72.,  73.,  74.,  75.,  76.,\n",
        "        77.,  78.,  79.,  80.,  81.,  82.,  83.,  84.,  85.,  86.,  87.,\n",
        "        88.,  89.,  90.,  91.,  92.,  93.,  94.,  95.,  96.,  97.,  98.,\n",
        "        99.])"
       ]
      }
     ],
     "prompt_number": 57
    },
    {
     "cell_type": "code",
     "collapsed": false,
     "input": [
      "chunks"
     ],
     "language": "python",
     "metadata": {},
     "outputs": [
      {
       "metadata": {},
       "output_type": "pyout",
       "prompt_number": 33,
       "text": [
        "[array([ 0.,  1.,  2.,  3.,  4.,  5.,  6.]),\n",
        " array([  7.,   8.,   9.,  10.,  11.,  12.,  13.]),\n",
        " array([ 14.,  15.,  16.,  17.,  18.,  19.,  20.]),\n",
        " array([ 21.,  22.,  23.,  24.,  25.,  26.,  27.]),\n",
        " array([ 28.,  29.,  30.,  31.,  32.,  33.,  34.]),\n",
        " array([ 35.,  36.,  37.,  38.,  39.,  40.,  41.]),\n",
        " array([ 42.,  43.,  44.,  45.,  46.,  47.,  48.]),\n",
        " array([ 49.,  50.,  51.,  52.,  53.,  54.,  55.]),\n",
        " array([ 56.,  57.,  58.,  59.,  60.,  61.,  62.]),\n",
        " array([ 63.,  64.,  65.,  66.,  67.,  68.,  69.]),\n",
        " array([ 70.,  71.,  72.,  73.,  74.,  75.,  76.]),\n",
        " array([ 77.,  78.,  79.,  80.,  81.,  82.,  83.]),\n",
        " array([ 84.,  85.,  86.,  87.,  88.,  89.,  90.]),\n",
        " array([ 91.,  92.,  93.,  94.,  95.,  96.,  97.]),\n",
        " array([  98.,   99.,  100.,  101.,  102.,  103.,  104.]),\n",
        " array([ 105.,  106.,  107.,  108.,  109.,  110.,  111.]),\n",
        " array([ 112.,  113.,  114.,  115.,  116.,  117.,  118.]),\n",
        " array([ 119.,  120.,  121.,  122.,  123.,  124.,  125.]),\n",
        " array([ 126.,  127.,  128.,  129.,  130.,  131.,  132.]),\n",
        " array([ 133.,  134.,  135.,  136.,  137.,  138.,  139.]),\n",
        " array([ 140.,  141.,  142.,  143.,  144.,  145.,  146.]),\n",
        " array([ 147.,  148.,  149.,  150.,  151.,  152.,  153.]),\n",
        " array([ 154.,  155.,  156.,  157.,  158.,  159.,  160.]),\n",
        " array([ 161.,  162.,  163.,  164.,  165.,  166.,  167.]),\n",
        " array([ 168.,  169.,  170.,  171.,  172.,  173.,  174.]),\n",
        " array([ 175.,  176.,  177.,  178.,  179.,  180.,  181.]),\n",
        " array([ 182.,  183.,  184.,  185.,  186.,  187.,  188.]),\n",
        " array([ 189.,  190.,  191.,  192.,  193.,  194.,  195.]),\n",
        " array([ 196.,  197.,  198.,  199.,  200.,  201.,  202.]),\n",
        " array([ 203.,  204.,  205.,  206.,  207.,  208.,  209.]),\n",
        " array([ 210.,  211.,  212.,  213.,  214.,  215.,  216.]),\n",
        " array([ 217.,  218.,  219.,  220.,  221.,  222.,  223.]),\n",
        " array([ 224.,  225.,  226.,  227.,  228.,  229.,  230.]),\n",
        " array([ 231.,  232.,  233.,  234.,  235.,  236.,  237.]),\n",
        " array([ 238.,  239.,  240.,  241.,  242.,  243.,  244.]),\n",
        " array([ 245.,  246.,  247.,  248.,  249.,  250.,  251.]),\n",
        " array([ 252.,  253.,  254.,  255.,  256.,  257.,  258.]),\n",
        " array([ 259.,  260.,  261.,  262.,  263.,  264.,  265.]),\n",
        " array([ 266.,  267.,  268.,  269.,  270.,  271.,  272.]),\n",
        " array([ 273.,  274.,  275.,  276.,  277.,  278.,  279.]),\n",
        " array([ 280.,  281.,  282.,  283.,  284.,  285.,  286.]),\n",
        " array([ 287.,  288.,  289.,  290.,  291.,  292.,  293.]),\n",
        " array([ 294.,  295.,  296.,  297.,  298.,  299.,  300.]),\n",
        " array([ 301.,  302.,  303.,  304.,  305.,  306.,  307.]),\n",
        " array([ 308.,  309.,  310.,  311.,  312.,  313.,  314.]),\n",
        " array([ 315.,  316.,  317.,  318.,  319.,  320.,  321.]),\n",
        " array([ 322.,  323.,  324.,  325.,  326.,  327.,  328.]),\n",
        " array([ 329.,  330.,  331.,  332.,  333.,  334.,  335.]),\n",
        " array([ 336.,  337.,  338.,  339.,  340.,  341.,  342.]),\n",
        " array([ 343.,  344.,  345.,  346.,  347.,  348.,  349.]),\n",
        " array([ 350.,  351.,  352.,  353.,  354.,  355.,  356.]),\n",
        " array([ 357.,  358.,  359.,  360.,  361.,  362.,  363.]),\n",
        " array([ 364.,  365.,  366.,  367.,  368.,  369.,  370.]),\n",
        " array([ 371.,  372.,  373.,  374.,  375.,  376.,  377.]),\n",
        " array([ 378.,  379.,  380.,  381.,  382.,  383.,  384.]),\n",
        " array([ 385.,  386.,  387.,  388.,  389.,  390.,  391.]),\n",
        " array([ 392.,  393.,  394.,  395.,  396.,  397.,  398.]),\n",
        " array([ 399.,  400.,  401.,  402.,  403.,  404.,  405.]),\n",
        " array([ 406.,  407.,  408.,  409.,  410.,  411.,  412.]),\n",
        " array([ 413.,  414.,  415.,  416.,  417.,  418.,  419.]),\n",
        " array([ 420.,  421.,  422.,  423.,  424.,  425.,  426.]),\n",
        " array([ 427.,  428.,  429.,  430.,  431.,  432.,  433.]),\n",
        " array([ 434.,  435.,  436.,  437.,  438.,  439.,  440.]),\n",
        " array([ 441.,  442.,  443.,  444.,  445.,  446.,  447.]),\n",
        " array([ 448.,  449.,  450.,  451.,  452.,  453.,  454.]),\n",
        " array([ 455.,  456.,  457.,  458.,  459.,  460.,  461.]),\n",
        " array([ 462.,  463.,  464.,  465.,  466.,  467.,  468.]),\n",
        " array([ 469.,  470.,  471.,  472.,  473.,  474.,  475.]),\n",
        " array([ 476.,  477.,  478.,  479.,  480.,  481.,  482.]),\n",
        " array([ 483.,  484.,  485.,  486.,  487.,  488.,  489.]),\n",
        " array([ 490.,  491.,  492.,  493.,  494.,  495.,  496.]),\n",
        " array([ 497.,  498.,  499.,  500.,  501.,  502.,  503.]),\n",
        " array([ 504.,  505.,  506.,  507.,  508.,  509.,  510.]),\n",
        " array([ 511.,  512.,  513.,  514.,  515.,  516.,  517.]),\n",
        " array([ 518.,  519.,  520.,  521.,  522.,  523.,  524.]),\n",
        " array([ 525.,  526.,  527.,  528.,  529.,  530.,  531.]),\n",
        " array([ 532.,  533.,  534.,  535.,  536.,  537.,  538.]),\n",
        " array([ 539.,  540.,  541.,  542.,  543.,  544.,  545.]),\n",
        " array([ 546.,  547.,  548.,  549.,  550.,  551.,  552.]),\n",
        " array([ 553.,  554.,  555.,  556.,  557.,  558.,  559.]),\n",
        " array([ 560.,  561.,  562.,  563.,  564.,  565.,  566.]),\n",
        " array([ 567.,  568.,  569.,  570.,  571.,  572.,  573.]),\n",
        " array([ 574.,  575.,  576.,  577.,  578.,  579.,  580.]),\n",
        " array([ 581.,  582.,  583.,  584.,  585.,  586.,  587.]),\n",
        " array([ 588.,  589.,  590.,  591.,  592.,  593.,  594.]),\n",
        " array([ 595.,  596.,  597.,  598.,  599.,  600.,  601.]),\n",
        " array([ 602.,  603.,  604.,  605.,  606.,  607.,  608.]),\n",
        " array([ 609.,  610.,  611.,  612.,  613.,  614.,  615.]),\n",
        " array([ 616.,  617.,  618.,  619.,  620.,  621.,  622.]),\n",
        " array([ 623.,  624.,  625.,  626.,  627.,  628.,  629.]),\n",
        " array([ 630.,  631.,  632.,  633.,  634.,  635.,  636.]),\n",
        " array([ 637.,  638.,  639.,  640.,  641.,  642.,  643.]),\n",
        " array([ 644.,  645.,  646.,  647.,  648.,  649.,  650.]),\n",
        " array([ 651.,  652.,  653.,  654.,  655.,  656.,  657.]),\n",
        " array([ 658.,  659.,  660.,  661.,  662.,  663.,  664.]),\n",
        " array([ 665.,  666.,  667.,  668.,  669.,  670.,  671.]),\n",
        " array([ 672.,  673.,  674.,  675.,  676.,  677.,  678.]),\n",
        " array([ 679.,  680.,  681.,  682.,  683.,  684.,  685.]),\n",
        " array([ 686.,  687.,  688.,  689.,  690.,  691.,  692.]),\n",
        " array([ 693.,  694.,  695.,  696.,  697.,  698.,  699.])]"
       ]
      }
     ],
     "prompt_number": 33
    },
    {
     "cell_type": "code",
     "collapsed": false,
     "input": [
      "np.array(chunks)[:,int(0.5*len(x)/nchunks)]"
     ],
     "language": "python",
     "metadata": {},
     "outputs": [
      {
       "metadata": {},
       "output_type": "pyout",
       "prompt_number": 58,
       "text": [
        "array([  0.,   1.,   2.,   3.,   4.,   5.,   6.,   7.,   8.,   9.,  10.,\n",
        "        11.,  12.,  13.,  14.,  15.,  16.,  17.,  18.,  19.,  20.,  21.,\n",
        "        22.,  23.,  24.,  25.,  26.,  27.,  28.,  29.,  30.,  31.,  32.,\n",
        "        33.,  34.,  35.,  36.,  37.,  38.,  39.,  40.,  41.,  42.,  43.,\n",
        "        44.,  45.,  46.,  47.,  48.,  49.,  50.,  51.,  52.,  53.,  54.,\n",
        "        55.,  56.,  57.,  58.,  59.,  60.,  61.,  62.,  63.,  64.,  65.,\n",
        "        66.,  67.,  68.,  69.,  70.,  71.,  72.,  73.,  74.,  75.,  76.,\n",
        "        77.,  78.,  79.,  80.,  81.,  82.,  83.,  84.,  85.,  86.,  87.,\n",
        "        88.,  89.,  90.,  91.,  92.,  93.,  94.,  95.,  96.,  97.,  98.,\n",
        "        99.])"
       ]
      }
     ],
     "prompt_number": 58
    },
    {
     "cell_type": "code",
     "collapsed": false,
     "input": [
      "len(data)"
     ],
     "language": "python",
     "metadata": {},
     "outputs": [
      {
       "metadata": {},
       "output_type": "pyout",
       "prompt_number": 60,
       "text": [
        "100"
       ]
      }
     ],
     "prompt_number": 60
    },
    {
     "cell_type": "code",
     "collapsed": false,
     "input": [
      "np.gradient(data)[:int(0.05*len(data))]"
     ],
     "language": "python",
     "metadata": {},
     "outputs": [
      {
       "metadata": {},
       "output_type": "pyout",
       "prompt_number": 63,
       "text": [
        "array([ 1.,  1.,  1.,  1.,  1.])"
       ]
      }
     ],
     "prompt_number": 63
    },
    {
     "cell_type": "code",
     "collapsed": false,
     "input": [
      "np.sum(np.gradient(data)[:int(0.05*len(data))])"
     ],
     "language": "python",
     "metadata": {},
     "outputs": [
      {
       "metadata": {},
       "output_type": "pyout",
       "prompt_number": 64,
       "text": [
        "5.0"
       ]
      }
     ],
     "prompt_number": 64
    },
    {
     "cell_type": "code",
     "collapsed": false,
     "input": [
      "np.sum?"
     ],
     "language": "python",
     "metadata": {},
     "outputs": [],
     "prompt_number": 65
    },
    {
     "cell_type": "code",
     "collapsed": false,
     "input": [],
     "language": "python",
     "metadata": {},
     "outputs": []
    }
   ],
   "metadata": {}
  }
 ]
}
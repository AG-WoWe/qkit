{
 "cells": [
  {
   "cell_type": "markdown",
   "metadata": {},
   "source": [
    "### Avoided crossing module:"
   ]
  },
  {
   "cell_type": "code",
   "execution_count": null,
   "metadata": {
    "collapsed": false
   },
   "outputs": [],
   "source": [
    "import os, sys, time\n",
    "import numpy as np\n",
    "import matplotlib.pyplot as plt\n",
    "%matplotlib inline\n",
    "\n",
    "import scipy.constants as sc\n",
    "import scipy.optimize as fit\n",
    "\n",
    "import scipy.ndimage as scd\n",
    "\n",
    "from qkit.analysis import dat_reader as dr\n",
    "from qkit.analysis.avoided_crossing_fit import avoided_crossing_fit as acf\n",
    "\n",
    "from qkit.analysis.avoided_crossing_fit.ac_preparation import acp"
   ]
  },
  {
   "cell_type": "markdown",
   "metadata": {},
   "source": [
    "### Reading Data"
   ]
  },
  {
   "cell_type": "code",
   "execution_count": null,
   "metadata": {
    "collapsed": false
   },
   "outputs": [],
   "source": [
    "# Switch to measurement directory\n",
    "\n",
    "os.chdir(\"\")"
   ]
  },
  {
   "cell_type": "code",
   "execution_count": null,
   "metadata": {
    "collapsed": true
   },
   "outputs": [],
   "source": [
    "# Folder that contains the h5 measurement file\n",
    "\n",
    "measfolder=\"\""
   ]
  },
  {
   "cell_type": "code",
   "execution_count": null,
   "metadata": {
    "collapsed": true
   },
   "outputs": [],
   "source": [
    "# Name of the h5 measurement file\n",
    "\n",
    "measfile=\"\""
   ]
  },
  {
   "cell_type": "code",
   "execution_count": null,
   "metadata": {
    "collapsed": false
   },
   "outputs": [],
   "source": [
    "#Reading the data\n",
    "\n",
    "data, fn = dr.load_data(measfolder+measfile,['current', 'frequency', 'amplitude'])\n",
    "curr_raw, freq_raw, signal_raw, signal_time = data"
   ]
  },
  {
   "cell_type": "code",
   "execution_count": null,
   "metadata": {
    "collapsed": false
   },
   "outputs": [],
   "source": [
    "#Reshape signal (h5 load has shape (x, y, 1), but we need (x, y))\n",
    "\n",
    "signal_raw = signal_raw.reshape(signal_raw.shape[0], signal_raw.shape[1]).T"
   ]
  },
  {
   "cell_type": "code",
   "execution_count": null,
   "metadata": {
    "collapsed": true
   },
   "outputs": [],
   "source": [
    "signal = signal_raw\n",
    "curr = curr_raw\n",
    "freq = freq_raw"
   ]
  },
  {
   "cell_type": "markdown",
   "metadata": {},
   "source": [
    "### Detect Crossing"
   ]
  },
  {
   "cell_type": "code",
   "execution_count": null,
   "metadata": {
    "collapsed": false
   },
   "outputs": [],
   "source": [
    "# Create anticrossing object with ac_preparation by Yannick Schön\n",
    "\n",
    "ac=acp(signal,curr,freq)"
   ]
  },
  {
   "cell_type": "code",
   "execution_count": null,
   "metadata": {
    "collapsed": false
   },
   "outputs": [],
   "source": [
    "# Search the peaks corresponding to the two arms of the anticrossing\n",
    "\n",
    "# f0_0: Frequency of the resonator\n",
    "# df: Span around f0 to be searched in\n",
    "# f0_e: Frequency of the resonator after the crossing\n",
    "# thres: Threshold parameter for peakutils (standard: 0.3)\n",
    "# min_dist: Minimum distance between identified peaks (standard: 30)\n",
    "\n",
    "ac.peaks(f0_0=5.0e9,df=6.0e6,min_dist=50)"
   ]
  },
  {
   "cell_type": "code",
   "execution_count": null,
   "metadata": {
    "collapsed": false
   },
   "outputs": [],
   "source": [
    "# Plot the data and the found peaks\n",
    "\n",
    "ac.plot_peaks()"
   ]
  },
  {
   "cell_type": "code",
   "execution_count": null,
   "metadata": {
    "collapsed": true
   },
   "outputs": [],
   "source": [
    "# If needed cut # points from end of arm 1\n",
    "\n",
    "#ac.cut1(5)"
   ]
  },
  {
   "cell_type": "code",
   "execution_count": null,
   "metadata": {
    "collapsed": false
   },
   "outputs": [],
   "source": [
    "# If needed cut # points from end of arm 2\n",
    "\n",
    "#ac.cut2(5)"
   ]
  },
  {
   "cell_type": "markdown",
   "metadata": {},
   "source": [
    "### Fit"
   ]
  },
  {
   "cell_type": "code",
   "execution_count": null,
   "metadata": {
    "collapsed": false
   },
   "outputs": [],
   "source": [
    "# Use avoided_crossing_fit by Alex Stehli to fit the detected anticrossing\n",
    "\n",
    "fig, axes = plt.subplots(figsize=(16,8))\n",
    "\n",
    "fit_params, fit_errors = acf.crossing_fit(ac.fitcurrs1, ac.fitcurrs2, ac.fitfreqs1/1e9, ac.fitfreqs2/1e9)"
   ]
  },
  {
   "cell_type": "code",
   "execution_count": null,
   "metadata": {
    "collapsed": true
   },
   "outputs": [],
   "source": [
    "# Optional temperature information to be shown in legend\n",
    "\n",
    "temp=None"
   ]
  },
  {
   "cell_type": "code",
   "execution_count": null,
   "metadata": {
    "collapsed": false
   },
   "outputs": [],
   "source": [
    "# Create a nice overlay of data and fit:\n",
    "\n",
    "# Create contens of fit parameter label\n",
    "fitparams_label=\"w1 = ( {0:7.3f} +- {1:8.3f}) GHz\".format(fit_params[0], (np.diag(fit_errors)[0])**0.5)\n",
    "fitparams_label+=\"\\nw2 = ( {0:7.3f} +- {1:8.3f}) GHz\".format(fit_params[1], (np.diag(fit_errors)[1])**0.5)\n",
    "fitparams_label+=\"\\na  = ( {0:7.3f} +- {1:8.3f}) GHz/[x]\".format(fit_params[2], (np.diag(fit_errors)[2])**0.5)\n",
    "fitparams_label+=\"\\ng  = ( {0:7.3f} +- {1:8.3f}) MHz\".format(fit_params[3]*1000, 1000*(np.diag(fit_errors)[3])**0.5)\n",
    "if temp: fitparams_label+=\"\\n\\nTemperature: \"+temp\n",
    "\n",
    "# Shift current for pcolormesh (looks a lot better)\n",
    "fig, axes = plt.subplots(figsize=(18,12))\n",
    "\n",
    "cp = curr - .5*(curr[1]- curr[0])*np.ones(curr.shape)\n",
    "plt.pcolormesh(cp, freq*10**-9, signal, cmap='coolwarm')\n",
    "cbar = plt.colorbar()\n",
    "xlin = np.linspace(cp.min(), cp.max(), 100)\n",
    "plt.plot(xlin, acf.avoided_crossing(xlin, fit_params, -1), 'r')\n",
    "plt.plot(xlin, acf.avoided_crossing(xlin, fit_params, 1), 'r', label=\"Fit parameters:\\n\"+fitparams_label)\n",
    "plt.xlim(cp.min(), cp.max())\n",
    "plt.ylim(freq.min()*10**-9, freq.max()*10**-9)\n",
    "plt.xlabel(r'$I_{coil}^{dc}\\,(\\mathrm{mA})$', fontsize=27)\n",
    "plt.ylabel(r'$f\\,(\\mathrm{GHz})$', fontsize=27)\n",
    "cbar.set_label(r'$\\phi\\,(\\mathrm{a.u.})$', rotation='90', fontsize = 27, labelpad = 15)\n",
    "plt.legend(loc=\"best\")\n",
    "\n",
    "# Save the data if wished\n",
    "\n",
    "#plt.savefig(measfolder+measfile+\".png\", dpi = 600)\n",
    "#np.savetxt(measfolder+\"fitparameters.txt\",fit_params)"
   ]
  },
  {
   "cell_type": "code",
   "execution_count": null,
   "metadata": {
    "collapsed": true
   },
   "outputs": [],
   "source": []
  }
 ],
 "metadata": {
  "kernelspec": {
   "display_name": "Python 2",
   "language": "python",
   "name": "python2"
  },
  "language_info": {
   "codemirror_mode": {
    "name": "ipython",
    "version": 2
   },
   "file_extension": ".py",
   "mimetype": "text/x-python",
   "name": "python",
   "nbconvert_exporter": "python",
   "pygments_lexer": "ipython2",
   "version": "2.7.13"
  }
 },
 "nbformat": 4,
 "nbformat_minor": 0
}

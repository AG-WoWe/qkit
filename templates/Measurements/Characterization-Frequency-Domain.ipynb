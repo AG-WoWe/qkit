{
 "cells": [
  {
   "cell_type": "code",
   "execution_count": 1,
   "id": "399af73f-593c-42a1-a466-6434b9ce9978",
   "metadata": {},
   "outputs": [
    {
     "name": "stdout",
     "output_type": "stream",
     "text": [
      "QKIT configuration initialized -> available as qkit.cfg[...]\n"
     ]
    }
   ],
   "source": [
    "# import standard packages\n",
    "\n",
    "import sys\n",
    "import numpy as np\n",
    "import matplotlib.pyplot as plt\n",
    "from scipy.interpolate import interp1d\n",
    "import scipy.optimize as opt\n",
    "import time\n",
    "from datetime import datetime\n",
    "from threading import Timer\n",
    "import scipy.signal as sig\n",
    "from scipy.interpolate import UnivariateSpline\n",
    "from qkit.analysis.circle_fit.circle_fit_2019 import circuit"
   ]
  },
  {
   "attachments": {},
   "cell_type": "markdown",
   "id": "7abc0bfe",
   "metadata": {},
   "source": [
    "# Qubit Characterization in Frequency Domain Notebook\n",
    "This notebook exists to help you characterize your qubits in frequency domain! It covers measurements of the readout resonator up till sweeps in bias currents and drive tones.\n",
    "\n",
    "Cells requiring your input a preceded by **bold text indicating user information.**\n",
    "\n",
    "First, Qkit is initialized. **Input a unique run_id and your name below.**"
   ]
  },
  {
   "cell_type": "code",
   "execution_count": 2,
   "id": "ff13197c-2d94-403b-9771-bb1efd866b3c",
   "metadata": {},
   "outputs": [
    {
     "name": "stdout",
     "output_type": "stream",
     "text": [
      "Starting QKIT framework ... -> qkit.core.startup\n",
      "Loading module ... S10_logging.py\n",
      "Loading module ... S14_setup_directories.py\n",
      "Loading module ... S16_available_modules.py\n",
      "Loading module ... S20_check_for_updates.py\n",
      "Loading module ... S25_info_service.py\n",
      "Loading module ... S30_qkit_start.py\n",
      "Loading module ... S65_load_RI_service.py\n",
      "Loading module ... S70_load_visa.py\n",
      "Loading module ... S80_load_file_service.py\n",
      "Loading module ... S85_init_measurement.py\n"
     ]
    },
    {
     "data": {
      "application/vnd.jupyter.widget-view+json": {
       "model_id": "fca02a42682a442986b23b7a695272af",
       "version_major": 2,
       "version_minor": 0
      },
      "text/plain": [
       "HBox(children=(Text(value='EDEL_18', description='Please check: Run ID', placeholder='***RUN_ID IS EMPTY***', …"
      ]
     },
     "metadata": {},
     "output_type": "display_data"
    },
    {
     "name": "stdout",
     "output_type": "stream",
     "text": [
      "Loading module ... S98_started.py\n",
      "Loading module ... S99_init_user.py\n"
     ]
    }
   ],
   "source": [
    "# import and start qkit\n",
    "\n",
    "import qkit\n",
    "qkit.cfg['load_visa']=True\n",
    "qkit.cfg['run_id']='EDEL_18'\n",
    "qkit.cfg['user']=r'Alex'\n",
    "qkit.start()\n",
    "\n",
    "from qkit.storage.store import Data\n",
    "import qkit.analysis.qfit as qfit\n",
    "import qkit.measure.samples_class as sc"
   ]
  },
  {
   "attachments": {},
   "cell_type": "markdown",
   "id": "1c95ef7d",
   "metadata": {
    "tags": []
   },
   "source": [
    "# Import Instruments\n",
    "The following instruments are required for operation and loaded:\n",
    "- The microwave switch in the fridge to switch between samples\n",
    "- A mircowave source for two-tone scans\n",
    "- A current source to provide a magnetic field bias for field scans\n",
    "- A VNA to perform the scan itself"
   ]
  },
  {
   "attachments": {},
   "cell_type": "markdown",
   "id": "63f83262",
   "metadata": {},
   "source": [
    "## Microwave Switch\n",
    "The Microwave Switch is loaded from configuration information, as this device is setup specific.\n",
    "Here, the sample can be connected to the measurement devices.\n",
    "\n",
    "**Make sure you are using the correct switch and pulse length!**"
   ]
  },
  {
   "cell_type": "code",
   "execution_count": 3,
   "id": "20c40e0c",
   "metadata": {},
   "outputs": [
    {
     "name": "stdout",
     "output_type": "stream",
     "text": [
      "Connecting to switch server...\n"
     ]
    }
   ],
   "source": [
    "# create switch\n",
    "switch = qkit.instruments.create_from_config(\"switch-edel\") # Or \"switch-perl\"\n",
    "switch.set_pulse_length(0.08) # Short pulse length to prevent excessive heating"
   ]
  },
  {
   "cell_type": "code",
   "execution_count": null,
   "id": "2bd084b4",
   "metadata": {},
   "outputs": [],
   "source": [
    "# switch.reset(2) # Uncomment and run if the switch is in an invalid state"
   ]
  },
  {
   "cell_type": "code",
   "execution_count": null,
   "id": "215557e8",
   "metadata": {},
   "outputs": [],
   "source": [
    "switch.ensure_switch_at(2, 3)"
   ]
  },
  {
   "attachments": {},
   "cell_type": "markdown",
   "id": "efe79491-fdde-44b5-b6b1-c4d59c3e556f",
   "metadata": {},
   "source": [
    "## Microwave Source\n",
    "Again, a Microwave Source is loaded from the configuration file.\n",
    "**Make sure you are using the correct device!**"
   ]
  },
  {
   "cell_type": "code",
   "execution_count": 10,
   "id": "505da181-b082-4256-b20a-b43c2837f8c7",
   "metadata": {},
   "outputs": [],
   "source": [
    "mw_src = qkit.instruments.create_from_config(\"mw-134\")"
   ]
  },
  {
   "cell_type": "code",
   "execution_count": 11,
   "id": "11e089ef-4817-46fd-9e94-b6379716203f",
   "metadata": {},
   "outputs": [
    {
     "data": {
      "text/plain": [
       "False"
      ]
     },
     "execution_count": 11,
     "metadata": {},
     "output_type": "execute_result"
    }
   ],
   "source": [
    "# turn on/off mw source\n",
    "mw_src.set_status(False)\n",
    "mw_src.get_status()"
   ]
  },
  {
   "attachments": {},
   "cell_type": "markdown",
   "id": "2416c5d0",
   "metadata": {},
   "source": [
    "## Current Source (field bias)\n",
    "**Ensure you are using the correct device!**"
   ]
  },
  {
   "cell_type": "code",
   "execution_count": 12,
   "id": "78ce3156",
   "metadata": {},
   "outputs": [],
   "source": [
    "IVD = qkit.instruments.create_from_config(\"cs-129\")"
   ]
  },
  {
   "cell_type": "code",
   "execution_count": 13,
   "id": "2bf0a609",
   "metadata": {},
   "outputs": [
    {
     "data": {
      "text/plain": [
       "False"
      ]
     },
     "execution_count": 13,
     "metadata": {},
     "output_type": "execute_result"
    }
   ],
   "source": [
    "# settings\n",
    "\n",
    "IVD.set_measurement_mode(0)\n",
    "IVD.set_bias_mode(0)\n",
    "#IVD.set_bias_range(2e-1)\n",
    "#IVD.set_sense_mode(1)\n",
    "#IVD.set_sense_limit(0.5)\n",
    "#IVD.get_all()\n",
    "\n",
    "IVD.set_current(0)\n",
    "IVD.set_status(0)\n",
    "IVD.get_status()"
   ]
  },
  {
   "attachments": {},
   "cell_type": "markdown",
   "id": "2601743c-91b8-4a6b-8b7d-fd635892111a",
   "metadata": {},
   "source": [
    "## VNA\n",
    "**Ensure you are using the correct device**"
   ]
  },
  {
   "cell_type": "code",
   "execution_count": 14,
   "id": "6f433008-3f4f-4313-b8fd-205ab95bc0d5",
   "metadata": {},
   "outputs": [],
   "source": [
    "# create VNA\n",
    "vna = qkit.instruments.create_from_config(\"vna-136\")"
   ]
  },
  {
   "attachments": {},
   "cell_type": "markdown",
   "id": "5c906fd5-f18a-4fd6-b7b9-beff1b8e1acf",
   "metadata": {},
   "source": [
    "## TIP Client (thermometer)\n",
    "We can access the temperature readings in our cryostat automatically for documentation and logging purposes, as well as a 'safety' measure.\n",
    "\n",
    "In case our current scan sends 'too much' current through the sample, it may become normal conducting and heat up. This is unwanted, and must be stopped as soon as possible, ideally without human intervention."
   ]
  },
  {
   "cell_type": "code",
   "execution_count": 15,
   "id": "695701ad-6091-44dc-a55f-b79c81d1d1f2",
   "metadata": {},
   "outputs": [
    {
     "name": "stdout",
     "output_type": "stream",
     "text": [
      "Connecting to TIP server...\n"
     ]
    },
    {
     "data": {
      "text/plain": [
       "0.008518933139047686"
      ]
     },
     "execution_count": 15,
     "metadata": {},
     "output_type": "execute_result"
    }
   ],
   "source": [
    "qkit.instruments.remove(\"tip\")\n",
    "\n",
    "# create thermometer\n",
    "tip = qkit.instruments.create_from_config('tip-edel')\n",
    "\n",
    "tip.define_default_thermometer('mxc')\n",
    "\n",
    "def get_T():\n",
    "    try:\n",
    "        return tip.get_T() # Calls do_get_T and uses default thermometer to get attribute 'temperature'\n",
    "    except:\n",
    "        return np.nan # Why??????\n",
    "get_T()"
   ]
  },
  {
   "cell_type": "markdown",
   "id": "90495dbc-423b-4810-a630-48c23d6d67e7",
   "metadata": {},
   "source": [
    "# Functions"
   ]
  },
  {
   "cell_type": "code",
   "execution_count": 16,
   "id": "0bbd0cb3-5a1e-4234-9389-eac01816fe7b",
   "metadata": {},
   "outputs": [],
   "source": [
    "# function estimates the duration of a measurement\n",
    "\n",
    "def estimate_measurement_time(dim=2):\n",
    "    if dim==1:\n",
    "        t_meas = vna.get_sweeptime_averages()\n",
    "    elif dim==2:\n",
    "        t_meas = vna.get_sweeptime_averages()*s.x_vec.size\n",
    "    elif dim==3:\n",
    "        t_meas = vna.get_sweeptime_averages()*s.x_vec.size*s.y_vec.size\n",
    "    timestamp = time.time()+t_meas\n",
    "    \n",
    "    if t_meas/60 < 180:\n",
    "        print('Masurement duration: ' + str(round(t_meas/60,1)) + ' min, ends at ', datetime.fromtimestamp(timestamp))\n",
    "    elif t_meas/60 >= 180:\n",
    "        print('Masurement duration: ' + str(round(t_meas/3600,2)) + ' h, ends at ', datetime.fromtimestamp(timestamp))\n",
    "\n",
    "    return "
   ]
  },
  {
   "cell_type": "code",
   "execution_count": 17,
   "id": "a837bd7e-950d-4b4e-8cdf-c708e12a4dee",
   "metadata": {},
   "outputs": [],
   "source": [
    "# function returnes the wiki entry\n",
    "\n",
    "def get_wiki_entry():\n",
    "    print('| ', sep='', end='')\n",
    "    print(s._data_file._uuid, sep='', end='')\n",
    "    print(' |  | ', sep='', end='')\n",
    "    if s._scan_dim > 1:\n",
    "        print('{:f}{:s} to {:f}{:s} in {:f}{:s}'.format(s.x_vec[0],\n",
    "                                                        s.x_unit,\n",
    "                                                        s.x_vec[-1],\n",
    "                                                        s.x_unit,\n",
    "                                                        (s.x_vec[-1]-s.x_vec[0])/(s.x_vec.size-1),\n",
    "                                                        s.x_unit),\n",
    "              sep='', end='')\n",
    "    else:\n",
    "        print('---', sep='', end='')\n",
    "    print(' | ', sep='', end='')\n",
    "    if s._scan_dim > 2:\n",
    "        print('{:f}{:s} to {:f}{:s} in {:f}{:s}'.format(s.y_vec[0],\n",
    "                                                        s.y_unit,\n",
    "                                                        s.y_vec[-1],\n",
    "                                                        s.y_unit,\n",
    "                                                        (s.y_vec[-1]-s.y_vec[0])/(s.y_vec.size-1),\n",
    "                                                        s.y_unit),\n",
    "              sep='', end='')\n",
    "    else:\n",
    "        print('---', sep='', end='')\n",
    "    print(' | ', sep='', end='')\n",
    "    print(vna.get_bandwidth(), ' | ', vna.get_averages(), ' | ', vna.get_power(), ' | ', vna.get_span()/1e6, ' | ', vna.get_nop(), ' | ', sep='', end='')\n",
    "    print(IVD.get_current(), ' | ', mw_src.get_power(), ' | ', mw_src.get_frequency()/1e9, sep='', end='')\n",
    "    print(' |  |', sep='', end='')"
   ]
  },
  {
   "cell_type": "code",
   "execution_count": 18,
   "id": "5b4370ac-d480-4d0b-9bbb-3b0f7468e32f",
   "metadata": {
    "tags": []
   },
   "outputs": [],
   "source": [
    "# functions used to implement a killswitch of the DC-current source depending on a cryo temperature threshold\n",
    "\n",
    "temp_threshold = 15e-3 # mK\n",
    "\n",
    "# Trigger function: True if the measured temperature exceeds the trigger temperature, False otherwise\n",
    "def temperature_killswitch(trigger = temp_threshold):\n",
    "    temp = get_T()\n",
    "    if temp > trigger:\n",
    "        return True\n",
    "    else:\n",
    "        return False\n",
    "    \n",
    "# Stop the DC current source\n",
    "def stop_current():\n",
    "    stop_point = IVD.get_current() # beware! get_current turns on current again\n",
    "    IVD.set_current(0)\n",
    "    IVD.set_status(False)\n",
    "    sys.exit(\"Heat Stop at \"+ str(stop_point/1e-3) + \" mA; Current status: \" +str(IVD.get_status()))"
   ]
  },
  {
   "cell_type": "code",
   "execution_count": 19,
   "id": "7e9c7c9e-8779-46e4-b8d0-1df73c821b63",
   "metadata": {},
   "outputs": [],
   "source": [
    "# Function to calculate measurement points, good eg. for ramping the current up and down\n",
    "# INPUT: array with checkpoints that need to be reached in the measurement (eg. [start_value, stop_value]); step size\n",
    "# OUTPUT: array with all corresponding measurement points\n",
    "# WARNING: If used for sweeping a parameter up and back down and the step size does not correspond in the interval (eg. INPUT ([1, 8], 3)),\n",
    "# the points on ramp up and ramp down will not correspond\n",
    "def measurement_points(checkpoints, step):\n",
    "    points = np.array([])\n",
    "    step = abs(step)\n",
    "    for i in range(1, len(checkpoints)):\n",
    "        if checkpoints[i] > checkpoints[i-1]:\n",
    "            points = np.append(points, np.arange(checkpoints[i-1], checkpoints[i], step))\n",
    "        else:\n",
    "            points = np.append(points, np.arange(checkpoints[i-1], checkpoints[i], -step))\n",
    "    points = np.append(points, checkpoints[-1])\n",
    "    return points"
   ]
  },
  {
   "cell_type": "code",
   "execution_count": 20,
   "id": "d1606ea2-9fca-45c7-ad8b-cd41546ff2df",
   "metadata": {},
   "outputs": [
    {
     "ename": "SyntaxError",
     "evalue": "invalid syntax (2213856114.py, line 35)",
     "output_type": "error",
     "traceback": [
      "\u001b[1;36m  Cell \u001b[1;32mIn[20], line 35\u001b[1;36m\u001b[0m\n\u001b[1;33m    elif mode == 'amplitude'\u001b[0m\n\u001b[1;37m                            ^\u001b[0m\n\u001b[1;31mSyntaxError\u001b[0m\u001b[1;31m:\u001b[0m invalid syntax\n"
     ]
    }
   ],
   "source": [
    "# Resonator calibration:\n",
    "\n",
    "def resonator_calibration(f_r, mode):\n",
    "    \n",
    "    # Initialization\n",
    "    mw_src.set_status(False) # turn off mw source during search\n",
    "    vna.set_nop(401)\n",
    "    vna.set_centerfreq(f_r)\n",
    "    vna.set_span(20e6) # search the span aroud the resonator position\n",
    "    vna.set_bandwidth(1000) # large IF bandwith, many averages\n",
    "    vna.set_averages(30)\n",
    "    vna.set_Average(True)\n",
    "    \n",
    "    # Resonator measurement with MW source OFF\n",
    "    vna.pre_measurement() # Trigger count is set to number of averages\n",
    "    vna.start_measurement() # Averages are reset; set_sweep_mode(\"group\")\n",
    "    while not vna.ready(): # wait till end of measurement\n",
    "        if temperature_killswitch():\n",
    "            stop_current()\n",
    "            return \n",
    "        else:\n",
    "            time.sleep(1e-1)\n",
    "    \n",
    "    # Find reesonance frequency in smoothened phase data, set this to be the center frequency\n",
    "    s.freq = vna.get_freqpoints()\n",
    "    s.amp, s.pha = vna.get_tracedata() # dataset with the amp and phase data to find the resonator\n",
    "    try:\n",
    "        if mode == 'phase':\n",
    "            # Savitzky-Golay-Filter:\n",
    "            # digital smoothing filter, increases the precision without distorting the signal tendency\n",
    "            # Convolution of low-degree polynomial over the data and fit\n",
    "            pha_savgol = - sig.savgol_filter(s.pha, window_length=9, polyorder=3, deriv=1)\n",
    "            peaks = sig.find_peaks(pha_savgol, prominence=4e-2)\n",
    "            peak = sig.find_peaks(pha_savgol, prominence=np.max(peaks[1]['prominences']))\n",
    "        elif mode == 'amplitude'\n",
    "        return s.freq[peak[0][0]]\n",
    "    except:\n",
    "        return 0"
   ]
  },
  {
   "cell_type": "code",
   "execution_count": 21,
   "id": "08c3278a-9832-49a8-b79d-4a53dac73e18",
   "metadata": {},
   "outputs": [],
   "source": [
    "# Set bias flux/current\n",
    "\n",
    "def set_dc_bias(dc_bias, mode = \"set\", dc_time = 0.1):\n",
    "    max_current = 8.0e-3 # max. dc current allowed\n",
    "    dc_step = 10e-6\n",
    "    \n",
    "    # if None then turn off source\n",
    "    if dc_bias == None:\n",
    "        IVD.set_status(False)\n",
    "        return \"DC source turned off.\"\n",
    "    \n",
    "    # check, if current value does not exceed maximum value\n",
    "    if abs(dc_bias) > max_current:\n",
    "        return \"Please select a DC current bias value lower than \" + str(max_current) + \" A!\"\n",
    "        \n",
    "    # set current source to zero and turn on source\n",
    "    IVD.set_current(0)\n",
    "    IVD.set_measurement_mode(0)\n",
    "    IVD.set_bias_mode(0)\n",
    "    IVD.set_status(True)\n",
    "    \n",
    "    # set or ramp current\n",
    "    if mode == \"set\":\n",
    "        IVD.set_current(dc_bias)\n",
    "    elif mode == \"ramp\":\n",
    "        IVD.ramp_current(dc_bias, dc_step, dc_time)\n",
    "    \n",
    "    return \"DC source set to \" + str(round(IVD.get_current()*1e3,3)) + \" mA\""
   ]
  },
  {
   "attachments": {},
   "cell_type": "markdown",
   "id": "072547b1",
   "metadata": {},
   "source": [
    "# Measurements\n",
    "## Sample Information\n",
    "Each Notebook should contain a single sample. In this case, each Notebook handles a single Qubit. This way variables are isolated within a python kernel and from each other.\n",
    "\n",
    "**Please define your sample below**"
   ]
  },
  {
   "cell_type": "code",
   "execution_count": null,
   "id": "3e43002a",
   "metadata": {},
   "outputs": [],
   "source": [
    "sample = sc.Sample()\n",
    "sample.name = 'GeQCoS-4Q-v4-3-C28-R2'\n",
    "sample.temperature = '~10mK'\n",
    "sample.setup = 'directional coupler: -20 dBm, damping at mw source -20 dBm'\n",
    "print(sample.get_all())\n",
    "\n",
    "exp_name = \"GeQCoS4Qv4_3_C28_r2\"\n",
    "\n",
    "from qkit.measure.spectroscopy.spectroscopy import spectrum\n",
    "s = spectrum(vna, exp_name=exp_name, sample=sample)\n",
    "s.exp_name=exp_name\n",
    "\n",
    "dir_sample = fr\"{qkit.cfg['user']}\\\\{exp_name}\"\n",
    "qkit.cfg['user'] = dir_sample"
   ]
  },
  {
   "attachments": {},
   "cell_type": "markdown",
   "id": "6c2a5239",
   "metadata": {},
   "source": [
    "**Configure your sample parameters in the following cell:**"
   ]
  },
  {
   "cell_type": "code",
   "execution_count": null,
   "id": "d4fafe58",
   "metadata": {},
   "outputs": [],
   "source": [
    "res_freq = 7.748e9\n",
    "\n",
    "def initial_calibration(delay = 58.039e-9):\n",
    "    vna.set_measurement_parameter('S21')\n",
    "    vna.set_power(-35)\n",
    "    vna.set_bandwidth(100)\n",
    "    vna.set_span(20e6)\n",
    "    vna.set_nop(101)\n",
    "    vna.set_centerfreq(res_freq)\n",
    "    vna.do_set_edel_status(True) # port extension\n",
    "    vna.do_set_edel(delay, 1)\n",
    "    return\n",
    "\n",
    "initial_calibration()"
   ]
  },
  {
   "cell_type": "code",
   "execution_count": 26,
   "id": "ff8e0175",
   "metadata": {
    "tags": []
   },
   "outputs": [
    {
     "data": {
      "text/plain": [
       "True"
      ]
     },
     "execution_count": 26,
     "metadata": {},
     "output_type": "execute_result"
    }
   ],
   "source": [
    "vna.set_centerfreq(res_freq)"
   ]
  },
  {
   "cell_type": "markdown",
   "id": "41ab8e7b-ac4a-4bda-8129-01290381b4c4",
   "metadata": {},
   "source": [
    "## Resonator Measurement"
   ]
  },
  {
   "cell_type": "markdown",
   "id": "09f53116",
   "metadata": {
    "tags": []
   },
   "source": [
    "### 1D Trace"
   ]
  },
  {
   "cell_type": "code",
   "execution_count": 179,
   "id": "4549f8bd-f0b1-47dd-b9f1-0e11a7436147",
   "metadata": {},
   "outputs": [
    {
     "data": {
      "text/plain": [
       "'DC source set to -0.0 mA'"
      ]
     },
     "execution_count": 179,
     "metadata": {},
     "output_type": "execute_result"
    }
   ],
   "source": [
    "# set the flux bias\n",
    "set_dc_bias(0)"
   ]
  },
  {
   "cell_type": "code",
   "execution_count": 180,
   "id": "4877c39f-58c6-4659-a096-c48778ff65f8",
   "metadata": {},
   "outputs": [
    {
     "data": {
      "text/plain": [
       "True"
      ]
     },
     "execution_count": 180,
     "metadata": {},
     "output_type": "execute_result"
    }
   ],
   "source": [
    "IVD.get_status()"
   ]
  },
  {
   "cell_type": "code",
   "execution_count": 135,
   "id": "a93ec400-cd78-4e57-ad84-9f2022b9d0f6",
   "metadata": {},
   "outputs": [],
   "source": [
    "# Measurement parameters\n",
    "\n",
    "# VNA \n",
    "vna_power = -35 # dBm\n",
    "vna_nop  = 201 \n",
    "vna_span = 10e6 # Hz\n",
    "vna_avg = 3\n",
    "vna_bw = 50 # Hz"
   ]
  },
  {
   "cell_type": "code",
   "execution_count": 136,
   "id": "dd850306-6d14-4a09-a250-01a27441fd77",
   "metadata": {},
   "outputs": [
    {
     "data": {
      "text/plain": [
       "True"
      ]
     },
     "execution_count": 136,
     "metadata": {},
     "output_type": "execute_result"
    }
   ],
   "source": [
    "vna.set_power(vna_power)"
   ]
  },
  {
   "cell_type": "code",
   "execution_count": 137,
   "id": "e86b0156-f540-435b-b9dd-a3f70a8ed094",
   "metadata": {},
   "outputs": [
    {
     "data": {
      "text/plain": [
       "True"
      ]
     },
     "execution_count": 137,
     "metadata": {},
     "output_type": "execute_result"
    }
   ],
   "source": [
    "vna.set_nop(vna_nop)\n",
    "vna.set_span(vna_span)"
   ]
  },
  {
   "cell_type": "code",
   "execution_count": 58,
   "id": "2724512f-5070-43e7-82fe-a76b40cbd8d4",
   "metadata": {},
   "outputs": [
    {
     "data": {
      "text/plain": [
       "True"
      ]
     },
     "execution_count": 58,
     "metadata": {},
     "output_type": "execute_result"
    }
   ],
   "source": [
    "vna.set_averages(vna_avg)\n",
    "vna.set_Average(True)"
   ]
  },
  {
   "cell_type": "code",
   "execution_count": 138,
   "id": "3635486f-c5f8-4c14-9091-c1920b1f1bbc",
   "metadata": {},
   "outputs": [
    {
     "data": {
      "text/plain": [
       "True"
      ]
     },
     "execution_count": 138,
     "metadata": {},
     "output_type": "execute_result"
    }
   ],
   "source": [
    "vna.set_bandwidth(vna_bw)"
   ]
  },
  {
   "cell_type": "code",
   "execution_count": 63,
   "id": "7b4c4c40",
   "metadata": {},
   "outputs": [],
   "source": [
    "s.set_resonator_fit(fit_resonator=True, fit_function='circle_fit_reflection')"
   ]
  },
  {
   "cell_type": "code",
   "execution_count": 163,
   "id": "678a2664",
   "metadata": {},
   "outputs": [],
   "source": [
    "qkit.cfg['user']= dir_sample + r'\\\\Resonator_Trace'\n",
    "s.dirname = exp_name + \"_1D_scan\""
   ]
  },
  {
   "cell_type": "code",
   "execution_count": 164,
   "id": "3ebd8fa4",
   "metadata": {},
   "outputs": [
    {
     "data": {
      "application/vnd.jupyter.widget-view+json": {
       "model_id": "0ab04983af2a4858befa2c86a2d669fb",
       "version_major": 2,
       "version_minor": 0
      },
      "text/plain": [
       "HTML(value=\"<table style='width:100%'><tr><td> (0/1) </td><td>&#9992; 2023-04-18 (Tue) 13:09:01    </td><td>&#…"
      ]
     },
     "metadata": {},
     "output_type": "display_data"
    },
    {
     "data": {
      "application/vnd.jupyter.widget-view+json": {
       "model_id": "421662ef87ae4522a0d726cf474ff45b",
       "version_major": 2,
       "version_minor": 0
      },
      "text/plain": [
       "IntProgress(value=0, description='GeQCoS4Qv4_3_C28_r3_1D_scan', layout=Layout(width='95%'), max=1)"
      ]
     },
     "metadata": {},
     "output_type": "display_data"
    },
    {
     "name": "stdout",
     "output_type": "stream",
     "text": [
      "C:\\data\\EDEL_18\\Alex\\\\sample_C28\\\\Resonator_Trace\\RTB5MZ_GeQCoS4Qv4_3_C28_r3_1D_scan\\RTB5MZ_GeQCoS4Qv4_3_C28_r3_1D_scan.h5\n"
     ]
    }
   ],
   "source": [
    "s.measure_1D()"
   ]
  },
  {
   "cell_type": "markdown",
   "id": "884a847e",
   "metadata": {},
   "source": [
    "### 2D Power scan"
   ]
  },
  {
   "cell_type": "code",
   "execution_count": 85,
   "id": "baab315e-8ad4-4c36-9f53-24d26e8f0ff2",
   "metadata": {},
   "outputs": [
    {
     "data": {
      "text/plain": [
       "'DC source set to 1.2 mA'"
      ]
     },
     "execution_count": 85,
     "metadata": {},
     "output_type": "execute_result"
    }
   ],
   "source": [
    "# set the flux bias\n",
    "dc_bias = 1200e-6\n",
    "set_dc_bias(dc_bias)"
   ]
  },
  {
   "cell_type": "code",
   "execution_count": 121,
   "id": "b5e6b5de-236b-4ce9-9ce0-f3384a510263",
   "metadata": {},
   "outputs": [
    {
     "data": {
      "text/plain": [
       "True"
      ]
     },
     "execution_count": 121,
     "metadata": {},
     "output_type": "execute_result"
    }
   ],
   "source": [
    "IVD.get_status()"
   ]
  },
  {
   "cell_type": "code",
   "execution_count": 122,
   "id": "b840afd9-4a2f-43b9-acc5-df505a234287",
   "metadata": {},
   "outputs": [],
   "source": [
    "# Measurement parameters\n",
    "\n",
    "# Power sweep\n",
    "power_start = -80 # dBm\n",
    "power_stop = 10 # dBm\n",
    "power_step = 2 # dBm\n",
    "\n",
    "power_points = measurement_points([power_start, power_stop], power_step)\n",
    "\n",
    "# VNA \n",
    "vna_nop  = 401 \n",
    "vna_span = 20e6 # Hz\n",
    "vna_avg = 10\n",
    "vna_bw = 50 # Hz"
   ]
  },
  {
   "cell_type": "code",
   "execution_count": 124,
   "id": "c175a683-c39f-4429-903a-0db82f6040cf",
   "metadata": {},
   "outputs": [
    {
     "data": {
      "text/plain": [
       "True"
      ]
     },
     "execution_count": 124,
     "metadata": {},
     "output_type": "execute_result"
    }
   ],
   "source": [
    "vna.set_span(vna_span)\n",
    "vna.set_nop(vna_nop)"
   ]
  },
  {
   "cell_type": "code",
   "execution_count": 125,
   "id": "b3756605-c4ca-4807-b08a-ef1c9186bf6c",
   "metadata": {},
   "outputs": [
    {
     "data": {
      "text/plain": [
       "True"
      ]
     },
     "execution_count": 125,
     "metadata": {},
     "output_type": "execute_result"
    }
   ],
   "source": [
    "vna.set_averages(vna_avg)\n",
    "vna.set_Average(True)"
   ]
  },
  {
   "cell_type": "code",
   "execution_count": 126,
   "id": "4ceb1252-b13a-4679-825c-24978ce807c7",
   "metadata": {},
   "outputs": [
    {
     "data": {
      "text/plain": [
       "True"
      ]
     },
     "execution_count": 126,
     "metadata": {},
     "output_type": "execute_result"
    }
   ],
   "source": [
    "vna.set_bandwidth(vna_bw)"
   ]
  },
  {
   "cell_type": "code",
   "execution_count": 127,
   "id": "c4fcedcb-2fa1-4d0a-b068-8f812c5b6621",
   "metadata": {},
   "outputs": [],
   "source": [
    "s.set_resonator_fit(fit_resonator=False, fit_function='circle_fit_reflection')"
   ]
  },
  {
   "cell_type": "code",
   "execution_count": 128,
   "id": "38e34aca",
   "metadata": {},
   "outputs": [
    {
     "name": "stdout",
     "output_type": "stream",
     "text": [
      "Masurement duration: 59.0 min, ends at  2023-04-16 17:43:27.551669\n"
     ]
    }
   ],
   "source": [
    "s.set_x_parameters(x_vec=power_points,\n",
    "                   x_coordname='VNA_power', \n",
    "                   x_set_obj=vna.set_power, \n",
    "                   x_unit='dBm')\n",
    "\n",
    "estimate_measurement_time(2)"
   ]
  },
  {
   "cell_type": "code",
   "execution_count": 129,
   "id": "35a2762d",
   "metadata": {},
   "outputs": [
    {
     "data": {
      "text/plain": [
       "True"
      ]
     },
     "execution_count": 129,
     "metadata": {},
     "output_type": "execute_result"
    }
   ],
   "source": [
    "vna.set_power(power_start)"
   ]
  },
  {
   "cell_type": "code",
   "execution_count": 131,
   "id": "b4c5a930",
   "metadata": {},
   "outputs": [],
   "source": [
    "s.comment = \"\"\"Directional coupler : -20dBm VNA, MW source: - 20 dBm external\"\"\"\n",
    "#s.comment = \"\"\"no directional coupler\"\"\""
   ]
  },
  {
   "cell_type": "code",
   "execution_count": null,
   "id": "7cfdcc36-ff15-4fc6-86b6-70f82f4f7a72",
   "metadata": {},
   "outputs": [],
   "source": [
    "name_extension = \"_at_\" + str(round(dc_bias*1e6,0)) +\"µA_bias_\" + \"(full_Phi0)\"\n",
    "qkit.cfg['user']= dir_sample + r'\\\\Resonator_Power'\n",
    "s.dirname = exp_name + \"_powerscan_\" + str(int(power_start)) + \"_to_\" + str(int(power_stop)) + \"_dBm\" + name_extension"
   ]
  },
  {
   "cell_type": "code",
   "execution_count": 132,
   "id": "09a1bd31",
   "metadata": {},
   "outputs": [
    {
     "data": {
      "application/vnd.jupyter.widget-view+json": {
       "model_id": "448aaddb751b46fc97dc010f9704c76e",
       "version_major": 2,
       "version_minor": 0
      },
      "text/plain": [
       "HTML(value=\"<table style='width:100%'><tr><td> (0/46) </td><td>&#9992; 2023-04-16 (Sun) 17:44:17    </td><td>&…"
      ]
     },
     "metadata": {},
     "output_type": "display_data"
    },
    {
     "data": {
      "application/vnd.jupyter.widget-view+json": {
       "model_id": "f1adf18bf5e143cba2da4ba6f6542a7c",
       "version_major": 2,
       "version_minor": 0
      },
      "text/plain": [
       "IntProgress(value=0, description='2D VNA sweep GeQCoS4Qv4_3_C28_r3_powerscan_-80_to_10_dBm_at_1200µA_bias_(ful…"
      ]
     },
     "metadata": {},
     "output_type": "display_data"
    },
    {
     "name": "stdout",
     "output_type": "stream",
     "text": [
      "C:\\data\\EDEL_18\\Alex\\RT7QBF_2D_GeQCoS4Qv4_3_C28_r3_powerscan_-80_to_10_dBm_at_1200µA_bias_(full_Phi0)\\RT7QBF_2D_GeQCoS4Qv4_3_C28_r3_powerscan_-80_to_10_dBm_at_1200µA_bias_(full_Phi0).h5\n"
     ]
    },
    {
     "data": {
      "text/plain": [
       "True"
      ]
     },
     "execution_count": 132,
     "metadata": {},
     "output_type": "execute_result"
    }
   ],
   "source": [
    "s.measure_2D()\n",
    "vna.set_power(power_start)"
   ]
  },
  {
   "cell_type": "markdown",
   "id": "9f96270d-4100-48a9-9546-cf4bc0275e18",
   "metadata": {
    "tags": []
   },
   "source": [
    "### 2D Current scan"
   ]
  },
  {
   "cell_type": "code",
   "execution_count": 30,
   "id": "339340d2-6129-4a77-87cf-ed79e70ed90a",
   "metadata": {},
   "outputs": [
    {
     "data": {
      "text/plain": [
       "'DC source set to 0.4 mA'"
      ]
     },
     "execution_count": 30,
     "metadata": {},
     "output_type": "execute_result"
    }
   ],
   "source": [
    "# set the flux bias\n",
    "set_dc_bias(400e-6)"
   ]
  },
  {
   "cell_type": "code",
   "execution_count": 28,
   "id": "b27d03e1-6a0f-46a4-8d42-2ad2bd17c911",
   "metadata": {},
   "outputs": [
    {
     "data": {
      "text/plain": [
       "True"
      ]
     },
     "execution_count": 28,
     "metadata": {},
     "output_type": "execute_result"
    }
   ],
   "source": [
    "IVD.get_status()"
   ]
  },
  {
   "cell_type": "code",
   "execution_count": 48,
   "id": "0f1ce415-053b-4812-b4ff-8f0f8e0eb7f8",
   "metadata": {},
   "outputs": [],
   "source": [
    "dc_start = -5e-3 # A\n",
    "dc_stop = 5e-3 # A\n",
    "dc_step = 0.005e-3 # A\n",
    "\n",
    "current_points = measurement_points([dc_start, dc_stop], dc_step)\n",
    "\n",
    "dc_time = 0.25\n",
    "\n",
    "# VNA \n",
    "vna_nop  = 401 \n",
    "vna_span = 80e6 # Hz\n",
    "vna_avg = 1\n",
    "vna_bw = 80 # Hz\n",
    "vna_power = -35 # dB"
   ]
  },
  {
   "cell_type": "code",
   "execution_count": 49,
   "id": "e8ece2d5-ecec-4264-9206-bca83966bece",
   "metadata": {},
   "outputs": [
    {
     "data": {
      "text/plain": [
       "True"
      ]
     },
     "execution_count": 49,
     "metadata": {},
     "output_type": "execute_result"
    }
   ],
   "source": [
    "vna.set_power(vna_power)"
   ]
  },
  {
   "cell_type": "code",
   "execution_count": 50,
   "id": "b1bbc039-353d-4cb1-a18d-cff232b4e7ae",
   "metadata": {},
   "outputs": [
    {
     "data": {
      "text/plain": [
       "True"
      ]
     },
     "execution_count": 50,
     "metadata": {},
     "output_type": "execute_result"
    }
   ],
   "source": [
    "vna.set_span(vna_span)\n",
    "vna.set_nop(vna_nop)"
   ]
  },
  {
   "cell_type": "code",
   "execution_count": 51,
   "id": "a576fbfd-86fa-4ed5-b8fa-9e1d8cc77690",
   "metadata": {},
   "outputs": [
    {
     "data": {
      "text/plain": [
       "True"
      ]
     },
     "execution_count": 51,
     "metadata": {},
     "output_type": "execute_result"
    }
   ],
   "source": [
    "vna.set_averages(vna_avg)\n",
    "vna.set_Average(True)"
   ]
  },
  {
   "cell_type": "code",
   "execution_count": 52,
   "id": "36d3414c-8390-4b0b-b24c-3df3d42c5a70",
   "metadata": {},
   "outputs": [
    {
     "data": {
      "text/plain": [
       "True"
      ]
     },
     "execution_count": 52,
     "metadata": {},
     "output_type": "execute_result"
    }
   ],
   "source": [
    "vna.set_bandwidth(vna_bw)"
   ]
  },
  {
   "cell_type": "code",
   "execution_count": 53,
   "id": "fd6564ce-9e93-4d35-a36c-b7d964b72fa2",
   "metadata": {},
   "outputs": [
    {
     "name": "stdout",
     "output_type": "stream",
     "text": [
      "Masurement duration: 3.06 h, ends at  2023-04-19 13:04:37.038661\n"
     ]
    }
   ],
   "source": [
    "def x_function(i):\n",
    "    #IVD.set_current(i)\n",
    "    \"\"\"\n",
    "    set_current(self, val, channel=1):\n",
    "    \n",
    "    Sets current value of channel <channel> to <val>.\n",
    "\n",
    "    Parameters\n",
    "    ----------\n",
    "    val: float\n",
    "        Bias current value.\n",
    "    channel: int\n",
    "        Number of channel of interest. Must be 1 for SMUs with only one channel and 1 or 2 for SMUs with two channels. Default is 1.\n",
    "    \"\"\"\n",
    "    \n",
    "    IVD.ramp_current(i, dc_step, dc_time)\n",
    "    \"\"\"\n",
    "    ramp_current(self, stop, step, step_time=0.1, channel=1):\n",
    "    \n",
    "    Ramps current of channel <channel> from recent value to stop value <stop> with step size <step> and step time <step_time> according to bias_mode.\n",
    "\n",
    "    Parameters\n",
    "    ----------\n",
    "    stop: float\n",
    "        Stop current value\n",
    "    step: float\n",
    "        Step current size.\n",
    "    step_time: float\n",
    "        Sleep time between current staircase ramp.\n",
    "    channel: int\n",
    "        Number of channel of interest. Must be 1 for SMUs with only one channel and 1 or 2 for SMUs with two channels. Default is 1. (default)\n",
    "    \"\"\"\n",
    "    \n",
    "s.set_x_parameters(x_vec=current_points,\n",
    "                   x_coordname='current_bias', \n",
    "                   x_set_obj=x_function, \n",
    "                   x_unit='Amp')\n",
    "\n",
    "estimate_measurement_time(2)"
   ]
  },
  {
   "cell_type": "code",
   "execution_count": 54,
   "id": "9adf318c-da16-4cdb-9dec-fffb0137ec1b",
   "metadata": {},
   "outputs": [],
   "source": [
    "s.comment = \"\"\"Directional coupler : -20dBm VNA, MW source: - 20 dBm external\"\"\"\n",
    "#s.comment = \"\"\"no directional coupler\"\"\""
   ]
  },
  {
   "cell_type": "code",
   "execution_count": 55,
   "id": "efbd4c12-654c-4ccf-8801-fbd372fca253",
   "metadata": {},
   "outputs": [],
   "source": [
    "qkit.cfg['user']= dir_sample + r'\\\\Resonator_Current'\n",
    "s.dirname = exp_name + \"_current_sweep_\" + str(round(dc_start/1e-3,1)) + \"_to_\" + str(round(dc_stop/1e-3,1)) + \"_mA\""
   ]
  },
  {
   "cell_type": "code",
   "execution_count": 56,
   "id": "ca401cf8-ea6f-4f58-a1ef-989e9a9257c6",
   "metadata": {},
   "outputs": [],
   "source": [
    "IVD.set_current(0)\n",
    "IVD.set_status(True)\n",
    "IVD.set_measurement_mode(0)\n",
    "IVD.set_bias_mode(0)"
   ]
  },
  {
   "cell_type": "code",
   "execution_count": 57,
   "id": "fc5cd992-dfe5-46f4-9ced-a078217c7025",
   "metadata": {},
   "outputs": [],
   "source": [
    "#IVD.ramp_current(dc_start, dc_step, dc_time)\n",
    "IVD.set_current(dc_start)"
   ]
  },
  {
   "cell_type": "code",
   "execution_count": null,
   "id": "1a57c45b-f719-425b-8cd1-9b1f3be49857",
   "metadata": {},
   "outputs": [
    {
     "data": {
      "application/vnd.jupyter.widget-view+json": {
       "model_id": "f3b6f6ad67c24274a2bc63f34223ab76",
       "version_major": 2,
       "version_minor": 0
      },
      "text/plain": [
       "HTML(value=\"<table style='width:100%'><tr><td> (0/2001) </td><td>&#9992; 2023-04-19 (Wed) 13:05:17    </td><td…"
      ]
     },
     "metadata": {},
     "output_type": "display_data"
    },
    {
     "data": {
      "application/vnd.jupyter.widget-view+json": {
       "model_id": "f3df5c40e32449e1963b3571b5fe72bd",
       "version_major": 2,
       "version_minor": 0
      },
      "text/plain": [
       "IntProgress(value=0, description='2D VNA sweep GeQCoS4Qv4_3_C28_r4_current_sweep_-5.0_to_5.0_mA', layout=Layou…"
      ]
     },
     "metadata": {},
     "output_type": "display_data"
    },
    {
     "name": "stdout",
     "output_type": "stream",
     "text": [
      "0.001860AA\r"
     ]
    }
   ],
   "source": [
    "s.measure_2D()\n",
    "\n",
    "IVD.set_current(0)\n",
    "IVD.set_status(False)"
   ]
  },
  {
   "cell_type": "markdown",
   "id": "e08665bc-6324-423d-872a-8699f6bcf6ce",
   "metadata": {},
   "source": [
    "## Two Tone Measurements"
   ]
  },
  {
   "cell_type": "markdown",
   "id": "fc63b91b",
   "metadata": {
    "tags": []
   },
   "source": [
    "### 2D 2-tone"
   ]
  },
  {
   "cell_type": "code",
   "execution_count": 59,
   "id": "ef6af02b-70db-4d85-8d07-c0d4baa86f4d",
   "metadata": {},
   "outputs": [
    {
     "data": {
      "text/plain": [
       "'DC source set to 0.6 mA'"
      ]
     },
     "execution_count": 59,
     "metadata": {},
     "output_type": "execute_result"
    }
   ],
   "source": [
    "# set the flux bias\n",
    "dc_bias = 600e-6\n",
    "set_dc_bias(dc_bias)"
   ]
  },
  {
   "cell_type": "code",
   "execution_count": 58,
   "id": "ffa4389e-9228-49dc-8bc7-30c25f19b0d7",
   "metadata": {},
   "outputs": [
    {
     "data": {
      "text/plain": [
       "True"
      ]
     },
     "execution_count": 58,
     "metadata": {},
     "output_type": "execute_result"
    }
   ],
   "source": [
    "IVD.get_status()"
   ]
  },
  {
   "cell_type": "code",
   "execution_count": 60,
   "id": "b0d22339-41c5-40bf-8a31-7830f2ba95fb",
   "metadata": {},
   "outputs": [
    {
     "data": {
      "text/plain": [
       "7837600472.63"
      ]
     },
     "execution_count": 60,
     "metadata": {},
     "output_type": "execute_result"
    }
   ],
   "source": [
    "res_freq = vna.get_centerfreq()\n",
    "vna.get_centerfreq()"
   ]
  },
  {
   "cell_type": "code",
   "execution_count": 68,
   "id": "39885f24-8c71-4dc8-b9f8-e58ddb9bfd3a",
   "metadata": {},
   "outputs": [],
   "source": [
    "# Measurement parameter\n",
    "\n",
    "# mw drive\n",
    "mw_start = 7.9e9 # Hz\n",
    "mw_stop = 12.0e9 # Hz\n",
    "mw_step = 5e6 # Hz\n",
    "mw_power = 5 # -20 dBm is max without eternal damping\n",
    "\n",
    "mw_points = measurement_points([mw_start, mw_stop], mw_step)\n",
    "\n",
    "# VNA\n",
    "vna_nop  = 401 \n",
    "vna_span = 20e6 # Hz\n",
    "vna_avg = 10\n",
    "vna_bw = 50 # Hz\n",
    "vna_power = -40 # dB"
   ]
  },
  {
   "cell_type": "code",
   "execution_count": 123,
   "id": "5154e263-8756-4bdf-b51d-fa54f8237782",
   "metadata": {},
   "outputs": [
    {
     "data": {
      "text/plain": [
       "True"
      ]
     },
     "execution_count": 123,
     "metadata": {},
     "output_type": "execute_result"
    }
   ],
   "source": [
    "vna.set_power(vna_power)"
   ]
  },
  {
   "cell_type": "code",
   "execution_count": 124,
   "id": "cf8ccd31-160c-4cb6-8a96-845098f23347",
   "metadata": {},
   "outputs": [
    {
     "data": {
      "text/plain": [
       "True"
      ]
     },
     "execution_count": 124,
     "metadata": {},
     "output_type": "execute_result"
    }
   ],
   "source": [
    "vna.set_span(vna_span)\n",
    "vna.set_nop(vna_nop)"
   ]
  },
  {
   "cell_type": "code",
   "execution_count": 69,
   "id": "dc9da30b-febe-41d4-91a7-41f713817687",
   "metadata": {},
   "outputs": [
    {
     "data": {
      "text/plain": [
       "True"
      ]
     },
     "execution_count": 69,
     "metadata": {},
     "output_type": "execute_result"
    }
   ],
   "source": [
    "vna.set_averages(vna_avg)\n",
    "vna.set_Average(True)"
   ]
  },
  {
   "cell_type": "code",
   "execution_count": 70,
   "id": "b64e3f99-b520-4630-b2ac-b1e03ec57a4f",
   "metadata": {},
   "outputs": [
    {
     "data": {
      "text/plain": [
       "True"
      ]
     },
     "execution_count": 70,
     "metadata": {},
     "output_type": "execute_result"
    }
   ],
   "source": [
    "vna.set_bandwidth(vna_bw)"
   ]
  },
  {
   "cell_type": "code",
   "execution_count": null,
   "id": "15c9077c-b8dc-4df2-b718-4cb157cd2b86",
   "metadata": {},
   "outputs": [],
   "source": [
    "# Measurement with one point: One point (centerfreq) in amp. dip or phase edge\n",
    "\n",
    "\"\"\"\n",
    "res_freq = vna.get_centerfreq()\n",
    "vna.get_centerfreq()\n",
    "vna.set_nop(1)\n",
    "\"\"\""
   ]
  },
  {
   "cell_type": "code",
   "execution_count": null,
   "id": "f3f7de61",
   "metadata": {},
   "outputs": [
    {
     "data": {
      "text/plain": [
       "True"
      ]
     },
     "execution_count": 53,
     "metadata": {},
     "output_type": "execute_result"
    }
   ],
   "source": [
    "# Measurement with two points: One point (centerfreq) in amp. dip or phase edge and second point about 500 KHz left or right \n",
    "\n",
    "\"\"\"\n",
    "vna.set_startfreq(res_freq)\n",
    "vna.set_stopfreq(res_freq+300e3)\n",
    "vna.set_nop(2)\n",
    "\"\"\""
   ]
  },
  {
   "cell_type": "code",
   "execution_count": 66,
   "id": "d9d6ad03-1e20-4204-84fa-7b3d466587a2",
   "metadata": {},
   "outputs": [
    {
     "data": {
      "text/plain": [
       "True"
      ]
     },
     "execution_count": 66,
     "metadata": {},
     "output_type": "execute_result"
    }
   ],
   "source": [
    "# Measurement with three points: One point (centerfreq) in amp. dip or phase edge and one point left and right each (baseline)\n",
    "\n",
    "res_freq = vna.get_centerfreq()\n",
    "vna.get_centerfreq()\n",
    "vna.set_nop(3)"
   ]
  },
  {
   "cell_type": "code",
   "execution_count": 71,
   "id": "744c7cb0",
   "metadata": {},
   "outputs": [
    {
     "name": "stdout",
     "output_type": "stream",
     "text": [
      "Masurement duration: 7.9 min, ends at  2023-04-18 22:20:52.078545\n"
     ]
    }
   ],
   "source": [
    "s.set_x_parameters(x_vec=mw_points,\n",
    "                   x_coordname='mw_frequency', \n",
    "                   x_set_obj=mw_src.set_frequency, \n",
    "                   x_unit='Hz')\n",
    "\n",
    "estimate_measurement_time(2)"
   ]
  },
  {
   "cell_type": "code",
   "execution_count": 72,
   "id": "de23841d",
   "metadata": {},
   "outputs": [],
   "source": [
    "s.comment = \"\"\"Directional coupler : -20dBm VNA, MW source: - 20 dBm external\"\"\"\n",
    "#s.comment = \"\"\"no directional coupler\"\"\""
   ]
  },
  {
   "cell_type": "code",
   "execution_count": 73,
   "id": "22b6abad-f843-4243-ab3d-7462f1d06542",
   "metadata": {},
   "outputs": [],
   "source": [
    "name_extension = \"_at_\" + str(round(dc_bias*1e6,0)) +\"µA_bias_\" + \"(full_Phi0)\"\n",
    "qkit.cfg['user']= dir_sample + r'\\\\TwoTone_Trace'\n",
    "s.dirname = exp_name + \"_2tone_at_\" +  str(round(mw_power,1)) + \"_dBm_\" + str(round(mw_start/1e9,1)) + \"_to_\" + str(round(mw_stop/1e9,1)) + \"_GHz\" + str(round(mw_step/1e6,1)) + \"_MHz_step\" + name_extension"
   ]
  },
  {
   "cell_type": "code",
   "execution_count": 74,
   "id": "2b67fa2a",
   "metadata": {},
   "outputs": [
    {
     "data": {
      "application/vnd.jupyter.widget-view+json": {
       "model_id": "9a92c4e1180b4f43a51eda67ac97f827",
       "version_major": 2,
       "version_minor": 0
      },
      "text/plain": [
       "HTML(value=\"<table style='width:100%'><tr><td> (0/821) </td><td>&#9992; 2023-04-18 (Tue) 22:21:08    </td><td>…"
      ]
     },
     "metadata": {},
     "output_type": "display_data"
    },
    {
     "data": {
      "application/vnd.jupyter.widget-view+json": {
       "model_id": "804bcc3d0fab41d784facc3f75d2acee",
       "version_major": 2,
       "version_minor": 0
      },
      "text/plain": [
       "IntProgress(value=0, description='2D VNA sweep GeQCoS4Qv4_3_C28_r1_2tone_at_5_dBm_7.9_to_12.0_GHz5.0_MHz_step_…"
      ]
     },
     "metadata": {},
     "output_type": "display_data"
    },
    {
     "name": "stdout",
     "output_type": "stream",
     "text": [
      "C:\\data\\EDEL_18\\Alex\\\\sample_C28\\\\TwoTone_Trace\\RTBUU3_2D_GeQCoS4Qv4_3_C28_r1_2tone_at_5_dBm_7.9_to_12.0_GHz5.0_MHz_step_at_600µA_bias_(full_Phi0)\\RTBUU3_2D_GeQCoS4Qv4_3_C28_r1_2tone_at_5_dBm_7.9_to_12.0_GHz5.0_MHz_step_at_600µA_bias_(full_Phi0).h5\n"
     ]
    },
    {
     "data": {
      "text/plain": [
       "True"
      ]
     },
     "execution_count": 74,
     "metadata": {},
     "output_type": "execute_result"
    }
   ],
   "source": [
    "mw_src.set_power(mw_power)\n",
    "mw_src.set_status(True)\n",
    "\n",
    "s.measure_2D()\n",
    "\n",
    "mw_src.set_status(False)"
   ]
  },
  {
   "cell_type": "code",
   "execution_count": 53,
   "id": "bc1375f2",
   "metadata": {},
   "outputs": [
    {
     "data": {
      "text/plain": [
       "1929.94552003"
      ]
     },
     "execution_count": 53,
     "metadata": {},
     "output_type": "execute_result"
    }
   ],
   "source": [
    "dc_start = -5e-3#e-3#-1e-3 # A\n",
    "dc_stop = 5e-3 # A\n",
    "dc_step = 0.01e-3 # A\n",
    "dc_time = 0.1\n",
    "\n",
    "def x_function(i):\n",
    "    #IVD.set_current(i)\n",
    "    \"\"\"\n",
    "    set_current(self, val, channel=1):\n",
    "    \n",
    "    Sets current value of channel <channel> to <val>.\n",
    "\n",
    "    Parameters\n",
    "    ----------\n",
    "    val: float\n",
    "        Bias current value.\n",
    "    channel: int\n",
    "        Number of channel of interest. Must be 1 for SMUs with only one channel and 1 or 2 for SMUs with two channels. Default is 1.\n",
    "    \"\"\"\n",
    "    \n",
    "    IVD.ramp_current(i, dc_step, dc_time)\n",
    "    \"\"\"\n",
    "    ramp_current(self, stop, step, step_time=0.1, channel=1):\n",
    "    \n",
    "    Ramps current of channel <channel> from recent value to stop value <stop> with step size <step> and step time <step_time> according to bias_mode.\n",
    "\n",
    "    Parameters\n",
    "    ----------\n",
    "    stop: float\n",
    "        Stop current value\n",
    "    step: float\n",
    "        Step current size.\n",
    "    step_time: float\n",
    "        Sleep time between current staircase ramp.\n",
    "    channel: int\n",
    "        Number of channel of interest. Must be 1 for SMUs with only one channel and 1 or 2 for SMUs with two channels. Default is 1. (default)\n",
    "    \"\"\"\n",
    "    \n",
    "s.set_x_parameters(x_vec=np.arange(dc_start, dc_stop, dc_step),\n",
    "                   x_coordname='current_bias', \n",
    "                   x_set_obj=x_function, \n",
    "                   x_unit='Amp')\n",
    "vna.get_sweeptime_averages()*len(s.x_vec)"
   ]
  },
  {
   "cell_type": "code",
   "execution_count": 54,
   "id": "0fe15e81-9caf-4d80-b2cc-15f6ce2f077d",
   "metadata": {},
   "outputs": [
    {
     "data": {
      "text/plain": [
       "True"
      ]
     },
     "execution_count": 54,
     "metadata": {},
     "output_type": "execute_result"
    }
   ],
   "source": [
    "vna.set_averages(5)"
   ]
  },
  {
   "cell_type": "code",
   "execution_count": 55,
   "id": "218971ad-cd74-4c38-b12d-35ac99843ab7",
   "metadata": {},
   "outputs": [],
   "source": [
    "#IVD.ramp_current(1e-3, dc_step, dc_time)\n",
    "IVD.set_current(0)"
   ]
  },
  {
   "cell_type": "code",
   "execution_count": 60,
   "id": "2b2907fe",
   "metadata": {},
   "outputs": [
    {
     "data": {
      "text/plain": [
       "False"
      ]
     },
     "execution_count": 60,
     "metadata": {},
     "output_type": "execute_result"
    }
   ],
   "source": [
    "IVD.get_status()"
   ]
  },
  {
   "cell_type": "code",
   "execution_count": 57,
   "id": "a630bd06",
   "metadata": {},
   "outputs": [],
   "source": [
    "IVD.set_status(True)\n",
    "IVD.set_measurement_mode(0)\n",
    "IVD.set_bias_mode(0)"
   ]
  },
  {
   "cell_type": "code",
   "execution_count": 58,
   "id": "bf9b0e33",
   "metadata": {},
   "outputs": [
    {
     "name": "stdout",
     "output_type": "stream",
     "text": [
      "-0.005000A\r"
     ]
    }
   ],
   "source": [
    "IVD.ramp_current(dc_start, dc_step, dc_time)"
   ]
  },
  {
   "cell_type": "code",
   "execution_count": 59,
   "id": "b82baeb7",
   "metadata": {},
   "outputs": [
    {
     "data": {
      "application/vnd.jupyter.widget-view+json": {
       "model_id": "12128fa17f604dceaa71106324d6c771",
       "version_major": 2,
       "version_minor": 0
      },
      "text/plain": [
       "HTML(value=\"<table style='width:100%'><tr><td> (0/1000) </td><td>&#9992; 2023-04-12 (Wed) 17:15:23    </td><td…"
      ]
     },
     "metadata": {},
     "output_type": "display_data"
    },
    {
     "data": {
      "application/vnd.jupyter.widget-view+json": {
       "model_id": "9d4c33b5dc6844d19c46f69c89068314",
       "version_major": 2,
       "version_minor": 0
      },
      "text/plain": [
       "IntProgress(value=0, description='2D VNA sweep GeQCoS4Qv4_3_C28_r3_current_sweep_-5.0_to_5.0_mA', layout=Layou…"
      ]
     },
     "metadata": {},
     "output_type": "display_data"
    },
    {
     "name": "stdout",
     "output_type": "stream",
     "text": [
      "C:\\data\\EDEL_18\\Alex\\RT0BK2_2D_GeQCoS4Qv4_3_C28_r3_current_sweep_-5.0_to_5.0_mA_GeQCoS4Qv4_3_C28_r3\\RT0BK2_2D_GeQCoS4Qv4_3_C28_r3_current_sweep_-5.0_to_5.0_mA_GeQCoS4Qv4_3_C28_r3.h5\n"
     ]
    }
   ],
   "source": [
    "s.dirname=exp_name + \"_current_sweep_\" + str(round(dc_start/1e-3,1)) + \"_to_\" + str(round(dc_stop/1e-3,1)) + \"_mA\"\n",
    "s.measure_2D()\n",
    "\n",
    "IVD.set_status(False)"
   ]
  },
  {
   "cell_type": "markdown",
   "id": "6e162283",
   "metadata": {
    "tags": []
   },
   "source": [
    "### 3D 2-tone power sweep"
   ]
  },
  {
   "cell_type": "code",
   "execution_count": 85,
   "id": "e5d9777a-8762-4f95-afec-06c7a276d183",
   "metadata": {},
   "outputs": [
    {
     "data": {
      "text/plain": [
       "'DC source set to -0.055 mA'"
      ]
     },
     "execution_count": 85,
     "metadata": {},
     "output_type": "execute_result"
    }
   ],
   "source": [
    "# set the flux bias\n",
    "dc_bias = -55e-6\n",
    "set_dc_bias(dc_bias)"
   ]
  },
  {
   "cell_type": "code",
   "execution_count": 39,
   "id": "c79b43d2-0eb7-47d4-9887-b1f6674d0d31",
   "metadata": {},
   "outputs": [
    {
     "data": {
      "text/plain": [
       "True"
      ]
     },
     "execution_count": 39,
     "metadata": {},
     "output_type": "execute_result"
    }
   ],
   "source": [
    "IVD.get_status()"
   ]
  },
  {
   "cell_type": "code",
   "execution_count": 29,
   "id": "b67809d1",
   "metadata": {},
   "outputs": [
    {
     "data": {
      "text/plain": [
       "7831491414.64"
      ]
     },
     "execution_count": 29,
     "metadata": {},
     "output_type": "execute_result"
    }
   ],
   "source": [
    "res_freq = vna.get_centerfreq()\n",
    "vna.get_centerfreq()"
   ]
  },
  {
   "cell_type": "code",
   "execution_count": 52,
   "id": "d2013976-325a-4295-bd21-c3ca2257fb7f",
   "metadata": {},
   "outputs": [],
   "source": [
    "# Measurement parameter\n",
    "\n",
    "# mw drive\n",
    "mw_start = 0.5e9 # Hz\n",
    "mw_stop = 8.0e9 # Hz\n",
    "mw_step = 5e6 # Hz\n",
    "\n",
    "mw_points = measurement_points([mw_stop, mw_start], mw_step)\n",
    "    \n",
    "power_start = -20 # dBm\n",
    "power_stop = 0 # dBm\n",
    "power_step = 5 # dBm\n",
    "\n",
    "mw_power_points = measurement_points([power_start, power_stop], power_step)\n",
    "\n",
    "# VNA\n",
    "vna_nop  = 401 \n",
    "vna_span = 15e6 # Hz\n",
    "vna_avg = 5\n",
    "vna_bw = 50 # Hz\n",
    "vna_power = -40 # dB"
   ]
  },
  {
   "cell_type": "code",
   "execution_count": 53,
   "id": "ba27f89f-9ead-4ab2-80b0-1640f28d1492",
   "metadata": {},
   "outputs": [
    {
     "data": {
      "text/plain": [
       "True"
      ]
     },
     "execution_count": 53,
     "metadata": {},
     "output_type": "execute_result"
    }
   ],
   "source": [
    "mw_src.set_status(False)"
   ]
  },
  {
   "cell_type": "code",
   "execution_count": 54,
   "id": "7b583a08-c182-4c53-925a-b50b92f0571a",
   "metadata": {},
   "outputs": [
    {
     "data": {
      "text/plain": [
       "True"
      ]
     },
     "execution_count": 54,
     "metadata": {},
     "output_type": "execute_result"
    }
   ],
   "source": [
    "vna.set_power(vna_power)"
   ]
  },
  {
   "cell_type": "code",
   "execution_count": 55,
   "id": "56444dfb-6a58-4b15-98b9-7ce29598d427",
   "metadata": {},
   "outputs": [
    {
     "data": {
      "text/plain": [
       "True"
      ]
     },
     "execution_count": 55,
     "metadata": {},
     "output_type": "execute_result"
    }
   ],
   "source": [
    "vna.set_span(vna_span)\n",
    "vna.set_nop(vna_nop)"
   ]
  },
  {
   "cell_type": "code",
   "execution_count": 56,
   "id": "55a35d3a-63d8-4b83-9a6e-262a05b6cd01",
   "metadata": {},
   "outputs": [
    {
     "data": {
      "text/plain": [
       "True"
      ]
     },
     "execution_count": 56,
     "metadata": {},
     "output_type": "execute_result"
    }
   ],
   "source": [
    "vna.set_averages(vna_avg)\n",
    "vna.set_Average(True)"
   ]
  },
  {
   "cell_type": "code",
   "execution_count": 57,
   "id": "8a86f6db-14f3-4d26-bf3b-7abc5e6687aa",
   "metadata": {},
   "outputs": [
    {
     "data": {
      "text/plain": [
       "True"
      ]
     },
     "execution_count": 57,
     "metadata": {},
     "output_type": "execute_result"
    }
   ],
   "source": [
    "vna.set_bandwidth(vna_bw)"
   ]
  },
  {
   "cell_type": "code",
   "execution_count": 58,
   "id": "5efe93b8-9bf0-4c1f-93f1-b98d8c49e0c3",
   "metadata": {},
   "outputs": [
    {
     "data": {
      "text/plain": [
       "'\\nres_freq = vna.get_centerfreq()\\nvna.get_centerfreq()\\nvna.set_nop(1)\\n'"
      ]
     },
     "execution_count": 58,
     "metadata": {},
     "output_type": "execute_result"
    }
   ],
   "source": [
    "# Measurement with one point: One point (centerfreq) in amp. dip or phase edge\n",
    "\n",
    "\"\"\"\n",
    "res_freq = vna.get_centerfreq()\n",
    "vna.get_centerfreq()\n",
    "vna.set_nop(1)\n",
    "\"\"\""
   ]
  },
  {
   "cell_type": "code",
   "execution_count": null,
   "id": "9ab0a2f0-0047-4d3e-ac23-f941631839af",
   "metadata": {},
   "outputs": [
    {
     "data": {
      "text/plain": [
       "True"
      ]
     },
     "execution_count": 53,
     "metadata": {},
     "output_type": "execute_result"
    }
   ],
   "source": [
    "# Measurement with two points: One point (centerfreq) in amp. dip or phase edge and second point about 500 KHz left or right \n",
    "\n",
    "\"\"\"\n",
    "vna.set_startfreq(res_freq)\n",
    "vna.set_stopfreq(res_freq+300e3)\n",
    "vna.set_nop(2)\n",
    "\"\"\""
   ]
  },
  {
   "cell_type": "code",
   "execution_count": 59,
   "id": "eb1d6d2b-7f8b-4f25-9cc8-1dbce63c0128",
   "metadata": {},
   "outputs": [
    {
     "data": {
      "text/plain": [
       "True"
      ]
     },
     "execution_count": 59,
     "metadata": {},
     "output_type": "execute_result"
    }
   ],
   "source": [
    "# Measurement with three points: One point (centerfreq) in amp. dip or phase edge and one point left and right each (baseline)\n",
    "\n",
    "res_freq = vna.get_centerfreq()\n",
    "vna.get_centerfreq()\n",
    "vna.set_nop(3)"
   ]
  },
  {
   "cell_type": "code",
   "execution_count": 60,
   "id": "8dbff253",
   "metadata": {},
   "outputs": [
    {
     "name": "stdout",
     "output_type": "stream",
     "text": [
      "Masurement duration: 36.0 min, ends at  2023-04-19 00:35:19.402363\n"
     ]
    }
   ],
   "source": [
    "s.set_x_parameters(x_vec=mw_power_points,\n",
    "                   x_coordname='mw_power', \n",
    "                   x_set_obj=mw_src.set_power, \n",
    "                   x_unit='dBm')\n",
    "\n",
    "s.set_y_parameters(y_vec=mw_points,\n",
    "                   y_coordname='mw_frequency', \n",
    "                   y_set_obj=mw_src.set_frequency, \n",
    "                   y_unit='Hz')\n",
    "\n",
    "estimate_measurement_time(3)"
   ]
  },
  {
   "cell_type": "code",
   "execution_count": 61,
   "id": "88c1b24f-3f90-464c-ace6-832ca1f8d1b0",
   "metadata": {},
   "outputs": [],
   "source": [
    "s.comment = \"\"\"Directional coupler : -20dBm VNA, MW source: - 20 dBm external\"\"\"\n",
    "#s.comment = \"\"\"no directional coupler\"\"\""
   ]
  },
  {
   "cell_type": "code",
   "execution_count": 62,
   "id": "d9e9f752-73e3-4938-86d8-54d9510bd189",
   "metadata": {
    "tags": []
   },
   "outputs": [],
   "source": [
    "name_extension = \"_at_\" + str(round(dc_bias*1e6,0)) +\"µA_bias_\" + \"(full_Phi0)\"\n",
    "qkit.cfg['user']= dir_sample + r'\\\\TwoTone_Power'\n",
    "s.dirname = exp_name + \"_2tone_\" + str(round(mw_start/1e9,1)) + \"_to_\" + str(round(mw_stop/1e9,1)) + \"_GHz_power_\" + str(power_start) + \"_to_\" + str(power_stop) + \"_dBm\" + name_extension"
   ]
  },
  {
   "cell_type": "code",
   "execution_count": 63,
   "id": "7e8e62bc",
   "metadata": {},
   "outputs": [
    {
     "data": {
      "application/vnd.jupyter.widget-view+json": {
       "model_id": "9aba665224934a2b9d24bcf53cbfdb0e",
       "version_major": 2,
       "version_minor": 0
      },
      "text/plain": [
       "HTML(value=\"<table style='width:100%'><tr><td> (0/7505) </td><td>&#9992; 2023-04-19 (Wed) 00:35:33    </td><td…"
      ]
     },
     "metadata": {},
     "output_type": "display_data"
    },
    {
     "data": {
      "application/vnd.jupyter.widget-view+json": {
       "model_id": "ebf430e268724e72814d2128d0fa2c71",
       "version_major": 2,
       "version_minor": 0
      },
      "text/plain": [
       "IntProgress(value=0, description='3D VNA sweep GeQCoS4Qv4_3_C28_r1_2tone_0.5_to_8.0_GHz_power_-20_to_0_dBm_at_…"
      ]
     },
     "metadata": {},
     "output_type": "display_data"
    },
    {
     "name": "stdout",
     "output_type": "stream",
     "text": [
      "C:\\data\\EDEL_18\\Alex\\\\sample_C28\\\\TwoTone_Power\\RTBZR7_3D_GeQCoS4Qv4_3_C28_r1_2tone_0.5_to_8.0_GHz_power_-20_to_0_dBm_at_150µA_bias\\RTBZR7_3D_GeQCoS4Qv4_3_C28_r1_2tone_0.5_to_8.0_GHz_power_-20_to_0_dBm_at_150µA_bias.h5\n"
     ]
    },
    {
     "data": {
      "text/plain": [
       "True"
      ]
     },
     "execution_count": 63,
     "metadata": {},
     "output_type": "execute_result"
    }
   ],
   "source": [
    "mw_src.set_power(power_start)\n",
    "mw_src.set_status(True)\n",
    "\n",
    "s.measure_3D()\n",
    "\n",
    "mw_src.set_status(False)"
   ]
  },
  {
   "cell_type": "markdown",
   "id": "c63bd17f-06f0-4596-b2c6-493117b498d3",
   "metadata": {
    "tags": []
   },
   "source": [
    "### 3D 2-tone Current sweep"
   ]
  },
  {
   "cell_type": "code",
   "execution_count": 1,
   "id": "c321be47-2193-4451-a5ff-6ab41737bb94",
   "metadata": {},
   "outputs": [
    {
     "ename": "NameError",
     "evalue": "name 'set_dc_bias' is not defined",
     "output_type": "error",
     "traceback": [
      "\u001b[1;31m---------------------------------------------------------------------------\u001b[0m",
      "\u001b[1;31mNameError\u001b[0m                                 Traceback (most recent call last)",
      "Cell \u001b[1;32mIn[1], line 2\u001b[0m\n\u001b[0;32m      1\u001b[0m \u001b[38;5;66;03m# set the flux bias\u001b[39;00m\n\u001b[1;32m----> 2\u001b[0m \u001b[43mset_dc_bias\u001b[49m(\u001b[38;5;241m400\u001b[39m)\n",
      "\u001b[1;31mNameError\u001b[0m: name 'set_dc_bias' is not defined"
     ]
    }
   ],
   "source": [
    "# set the flux bias\n",
    "dc_bias = 400e-6\n",
    "set_dc_bias(dc_bias)"
   ]
  },
  {
   "cell_type": "code",
   "execution_count": 2,
   "id": "66d350cd-c3a2-481f-99ee-95e4f6a54303",
   "metadata": {},
   "outputs": [
    {
     "ename": "NameError",
     "evalue": "name 'IVD' is not defined",
     "output_type": "error",
     "traceback": [
      "\u001b[1;31m---------------------------------------------------------------------------\u001b[0m",
      "\u001b[1;31mNameError\u001b[0m                                 Traceback (most recent call last)",
      "Cell \u001b[1;32mIn[2], line 1\u001b[0m\n\u001b[1;32m----> 1\u001b[0m \u001b[43mIVD\u001b[49m\u001b[38;5;241m.\u001b[39mget_status()\n",
      "\u001b[1;31mNameError\u001b[0m: name 'IVD' is not defined"
     ]
    }
   ],
   "source": [
    "IVD.get_status()"
   ]
  },
  {
   "cell_type": "code",
   "execution_count": 52,
   "id": "aa83bdc4-b1e6-4e13-9869-2722ed68edd7",
   "metadata": {},
   "outputs": [],
   "source": [
    "res_freq = vna.get_centerfreq()\n",
    "vna.get_centerfreq()"
   ]
  },
  {
   "cell_type": "code",
   "execution_count": 64,
   "id": "d91d7b8f-0b1d-4e57-b2ac-2aa964455643",
   "metadata": {},
   "outputs": [],
   "source": [
    "# Measurement parameter\n",
    "\n",
    "# field bias\n",
    "dc_start = 400e-6 # A\n",
    "dc_stop = 800e-6 # A\n",
    "dc_step = 10e-6 # A\n",
    "\n",
    "current_points = measurement_points([dc_start, dc_stop], dc_step)\n",
    "\n",
    "dc_time = 0.25\n",
    "\n",
    "# mw drive\n",
    "mw_start = 6.5e9 # Hz\n",
    "mw_stop = 8.0e9 # Hz\n",
    "mw_step = 5e6 # Hz\n",
    "\n",
    "mw_points = measurement_points([mw_start, mw_stop], mw_step)\n",
    "\n",
    "mw_power = -20\n",
    "\n",
    "# VNA\n",
    "vna_nop  = 401 \n",
    "vna_span = 20e6 # Hz\n",
    "vna_avg = 10\n",
    "vna_bw = 50 # Hz\n",
    "vna_power = -35 # dB"
   ]
  },
  {
   "cell_type": "code",
   "execution_count": 65,
   "id": "a888bff3-f93b-488d-9397-90510cb0366d",
   "metadata": {},
   "outputs": [
    {
     "data": {
      "text/plain": [
       "True"
      ]
     },
     "execution_count": 65,
     "metadata": {},
     "output_type": "execute_result"
    }
   ],
   "source": [
    "mw_src.set_status(False)"
   ]
  },
  {
   "cell_type": "code",
   "execution_count": 123,
   "id": "738c43c5-731c-4ee8-a1b0-a5f0efa85805",
   "metadata": {},
   "outputs": [
    {
     "data": {
      "text/plain": [
       "True"
      ]
     },
     "execution_count": 123,
     "metadata": {},
     "output_type": "execute_result"
    }
   ],
   "source": [
    "vna.set_power(vna_power)"
   ]
  },
  {
   "cell_type": "code",
   "execution_count": 124,
   "id": "f1552821-8c22-485b-b602-4297257a9a59",
   "metadata": {},
   "outputs": [
    {
     "data": {
      "text/plain": [
       "True"
      ]
     },
     "execution_count": 124,
     "metadata": {},
     "output_type": "execute_result"
    }
   ],
   "source": [
    "vna.set_span(vna_span)\n",
    "vna.set_nop(vna_nop)"
   ]
  },
  {
   "cell_type": "code",
   "execution_count": 125,
   "id": "fb33aeb6-c0e4-46f5-acfe-a3a09ecf8e50",
   "metadata": {},
   "outputs": [
    {
     "data": {
      "text/plain": [
       "True"
      ]
     },
     "execution_count": 125,
     "metadata": {},
     "output_type": "execute_result"
    }
   ],
   "source": [
    "vna.set_averages(vna_avg)\n",
    "vna.set_Average(True)"
   ]
  },
  {
   "cell_type": "code",
   "execution_count": 126,
   "id": "9b74504d-08a8-4a0c-b92b-333966033e2b",
   "metadata": {},
   "outputs": [
    {
     "data": {
      "text/plain": [
       "True"
      ]
     },
     "execution_count": 126,
     "metadata": {},
     "output_type": "execute_result"
    }
   ],
   "source": [
    "vna.set_bandwidth(vna_bw)"
   ]
  },
  {
   "cell_type": "code",
   "execution_count": null,
   "id": "78b9ed4e-1a2b-456a-8070-2395498d1e41",
   "metadata": {},
   "outputs": [],
   "source": [
    "# Measurement with one point: One point (centerfreq) in amp. dip or phase edge\n",
    "\n",
    "\"\"\"\n",
    "res_freq = vna.get_centerfreq()\n",
    "vna.get_centerfreq()\n",
    "vna.set_nop(1)\n",
    "\"\"\""
   ]
  },
  {
   "cell_type": "code",
   "execution_count": null,
   "id": "8c8e3d47-4e65-4cff-96da-19089c16a962",
   "metadata": {},
   "outputs": [
    {
     "data": {
      "text/plain": [
       "True"
      ]
     },
     "execution_count": 53,
     "metadata": {},
     "output_type": "execute_result"
    }
   ],
   "source": [
    "# Measurement with two points: One point (centerfreq) in amp. dip or phase edge and second point about 500 KHz left or right \n",
    "\n",
    "\"\"\"\n",
    "vna.set_startfreq(res_freq)\n",
    "vna.set_stopfreq(res_freq+300e3)\n",
    "vna.set_nop(2)\n",
    "\"\"\""
   ]
  },
  {
   "cell_type": "code",
   "execution_count": 66,
   "id": "f732784b-1c60-4296-b8a7-8ee3dfeb42f4",
   "metadata": {},
   "outputs": [
    {
     "data": {
      "text/plain": [
       "True"
      ]
     },
     "execution_count": 66,
     "metadata": {},
     "output_type": "execute_result"
    }
   ],
   "source": [
    "# Measurement with three points: One point (centerfreq) in amp. dip or phase edge and one point left and right each (baseline)\n",
    "\n",
    "res_freq = vna.get_centerfreq()\n",
    "vna.get_centerfreq()\n",
    "vna.set_nop(3)"
   ]
  },
  {
   "cell_type": "code",
   "execution_count": 69,
   "id": "df6ab6c8-d6d9-444a-b2d1-a73d0069baab",
   "metadata": {},
   "outputs": [
    {
     "name": "stdout",
     "output_type": "stream",
     "text": [
      "Masurement duration: 59.2 min, ends at  2023-04-19 09:27:53.634609\n"
     ]
    }
   ],
   "source": [
    "def x_function(i):\n",
    "    #IVD.set_current(i) \n",
    "    IVD.ramp_current(i, dc_step, dc_time)\n",
    "\n",
    "# x parameters for field sweep\n",
    "s.set_x_parameters(x_vec=current_points,\n",
    "                   x_coordname='current_bias', \n",
    "                   x_set_obj=x_function, \n",
    "                   x_unit='Amp')\n",
    "\n",
    "# y parameters for mw source\n",
    "s.set_y_parameters(y_vec=mw_points,\n",
    "                   y_coordname='mw_frequency', \n",
    "                   y_set_obj=mw_src.set_frequency, \n",
    "                   y_unit='Hz')\n",
    "\n",
    "estimate_measurement_time(3)"
   ]
  },
  {
   "cell_type": "code",
   "execution_count": 70,
   "id": "5d5a3035-ebea-4a79-b7ea-6a1fb40d56a5",
   "metadata": {},
   "outputs": [],
   "source": [
    "s.comment = \"\"\"Directional coupler : -20dBm VNA, MW source: - 20 dBm external\"\"\"\n",
    "#s.comment = \"\"\"no directional coupler\"\"\""
   ]
  },
  {
   "cell_type": "code",
   "execution_count": 71,
   "id": "881d6872-53a3-48b8-88c4-b0f13bc99e2c",
   "metadata": {
    "tags": []
   },
   "outputs": [],
   "source": [
    "qkit.cfg['user']= dir_sample + r'\\\\TwoTone_Current'\n",
    "s.dirname = exp_name + \"_2tone_\" + str(round(mw_start/1e9,1)) + \"_to_\"  + str(round(mw_stop/1e9,1)) + \"_GHz_current_\" + str(round(dc_start/1e-3,1)) + \"_to_\"  + str(round(dc_stop/1e-3,1)) + \"_mA\""
   ]
  },
  {
   "cell_type": "code",
   "execution_count": 73,
   "id": "996b6d08-a669-4687-ac7b-22c28792663c",
   "metadata": {},
   "outputs": [],
   "source": [
    "IVD.set_current(dc_start)\n",
    "IVD.set_status(True)\n",
    "IVD.set_measurement_mode(0)\n",
    "IVD.set_bias_mode(0)"
   ]
  },
  {
   "cell_type": "code",
   "execution_count": 58,
   "id": "d0e229e2-9684-46a0-bfeb-79cde73b4625",
   "metadata": {},
   "outputs": [
    {
     "name": "stdout",
     "output_type": "stream",
     "text": [
      "-0.005000A\r"
     ]
    }
   ],
   "source": [
    "IVD.ramp_current(dc_start, dc_step, dc_time)"
   ]
  },
  {
   "cell_type": "code",
   "execution_count": 64,
   "id": "0e542640-644e-4d81-a92e-f8335f9ac10b",
   "metadata": {},
   "outputs": [
    {
     "data": {
      "application/vnd.jupyter.widget-view+json": {
       "model_id": "6f6a4d39467b43d4908765d649ade4ae",
       "version_major": 2,
       "version_minor": 0
      },
      "text/plain": [
       "HTML(value=\"<table style='width:100%'><tr><td> (0/1040) </td><td>&#9992; 2023-04-12 (Wed) 13:42:59    </td><td…"
      ]
     },
     "metadata": {},
     "output_type": "display_data"
    },
    {
     "data": {
      "application/vnd.jupyter.widget-view+json": {
       "model_id": "21a32bca3ac2411e878a88e089a99c4a",
       "version_major": 2,
       "version_minor": 0
      },
      "text/plain": [
       "IntProgress(value=0, description='3D VNA sweep GeQCoS4Qv4_3_C28_r3_2tone_6.2_to_7.0_GHz_power_-100_to_20_dBm',…"
      ]
     },
     "metadata": {},
     "output_type": "display_data"
    },
    {
     "name": "stdout",
     "output_type": "stream",
     "text": [
      "C:\\data\\EDEL_18\\Alex\\RT0323_3D_GeQCoS4Qv4_3_C28_r3_2tone_6.2_to_7.0_GHz_power_-100_to_20_dBm_GeQCoS4Qv4_3_C28_r3\\RT0323_3D_GeQCoS4Qv4_3_C28_r3_2tone_6.2_to_7.0_GHz_power_-100_to_20_dBm_GeQCoS4Qv4_3_C28_r3.h5\n"
     ]
    },
    {
     "data": {
      "text/plain": [
       "True"
      ]
     },
     "execution_count": 64,
     "metadata": {},
     "output_type": "execute_result"
    }
   ],
   "source": [
    "mw_src.set_power(power_start)\n",
    "mw_src.set_status(True)\n",
    "\n",
    "s.measure_3D()\n",
    "\n",
    "mw_src.set_status(False)\n",
    "IVD.set_current(0)\n",
    "IVD.set_status(False)"
   ]
  },
  {
   "cell_type": "markdown",
   "id": "6921e667-68d7-43c6-8d9d-bd0dd790d262",
   "metadata": {
    "tags": []
   },
   "source": [
    "### 3D 2-tone Current sweep + readout resonator calibration"
   ]
  },
  {
   "cell_type": "code",
   "execution_count": null,
   "id": "3e12bfc7-ce4a-40b4-b025-a88a8d9d75df",
   "metadata": {},
   "outputs": [],
   "source": [
    "# initial_calibration_R1()\n",
    "# initial_calibration_R2()\n",
    "# initial_calibration_R3()\n",
    "# initial_calibration_R4()"
   ]
  },
  {
   "cell_type": "code",
   "execution_count": 24,
   "id": "44dccc42-2201-4b37-ae7f-b093a63c8a27",
   "metadata": {},
   "outputs": [],
   "source": [
    "# set the flux bias\n",
    "dc_bias = 400e-6\n",
    "set_dc_bias(dc_bias)"
   ]
  },
  {
   "cell_type": "code",
   "execution_count": null,
   "id": "5c7a447d-f173-4790-90bb-eb2b8e1c1861",
   "metadata": {},
   "outputs": [],
   "source": [
    "IVD.get_status()"
   ]
  },
  {
   "cell_type": "code",
   "execution_count": 25,
   "id": "93d8e192-3344-4e5c-bedb-3e1370cfce24",
   "metadata": {},
   "outputs": [
    {
     "data": {
      "text/plain": [
       "7858121125.27"
      ]
     },
     "execution_count": 25,
     "metadata": {},
     "output_type": "execute_result"
    }
   ],
   "source": [
    "res_freq = vna.get_centerfreq()\n",
    "vna.get_centerfreq()"
   ]
  },
  {
   "cell_type": "code",
   "execution_count": 27,
   "id": "2bcae93f-a7ab-48c6-a292-862ec5313c51",
   "metadata": {},
   "outputs": [],
   "source": [
    "# Measurement parameter\n",
    "\n",
    "# field bias\n",
    "dc_start = -80e-6 # A\n",
    "dc_stop = -30e-6 # A\n",
    "dc_step = 2e-6 # A\n",
    "\n",
    "current_points = measurement_points([dc_start, dc_stop], dc_step)\n",
    "\n",
    "dc_time = 0.25\n",
    "\n",
    "# mw drive\n",
    "mw_start = 6.5e9 # Hz\n",
    "mw_stop = 8.0e9 # Hz\n",
    "mw_step = 5e6 # Hz\n",
    "\n",
    "mw_points = measurement_points([mw_start, mw_stop], mw_step)\n",
    "\n",
    "mw_power = -20\n",
    "\n",
    "# VNA\n",
    "vna_nop  = 1  # measurement with one point in dip\n",
    "vna_span = 20e6 # Hz\n",
    "\n",
    "vna_avg = 10\n",
    "vna_bw = 50 # Hz\n",
    "vna_power = -35 # dB\n",
    "\n",
    "# resonator calibration\n",
    "cal_nop = 801\n",
    "cal_span = 40e6\n",
    "cal_bw = 1000\n",
    "cal_avg = 20"
   ]
  },
  {
   "cell_type": "code",
   "execution_count": 28,
   "id": "3fa3e586-1664-4ff0-b1da-7c1a1e2c3b5a",
   "metadata": {},
   "outputs": [],
   "source": [
    "def x_function(i):   \n",
    "    IVD.ramp_current(i, dc_step, dc_time)\n",
    "    \n",
    "    # search for optimal working point of resonator (VNA)\n",
    "    mw_src.set_status(False) # turn off mw source during search\n",
    "    vna.set_nop(cal_nop)\n",
    "    vna.set_centerfreq(res_freq)\n",
    "    vna.set_span(cal_span) # search the span aroud the resonator position\n",
    "    vna.set_bandwidth(cal_bw) # large IF bandwith, many averages\n",
    "    vna.set_averages(cal_avg)\n",
    "    vna.set_Average(True)\n",
    "\n",
    "    vna.pre_measurement()\n",
    "    vna.start_measurement()\n",
    "    while not vna.ready(): # wait till end of measurement\n",
    "        time.sleep(1e-1)\n",
    "    s.freq = vna.get_freqpoints()\n",
    "    s.amp, s.pha = vna.get_tracedata() # dataset with the amp and phase data to tind the resonator\n",
    "    try:\n",
    "        # Savitzky-Golay-Filter\n",
    "        #pha_savgol = -sig.savgol_filter(s.pha, window_length=9, polyorder=3, deriv=1)\n",
    "        peaks = sig.find_peaks(-s.amp, prominence= 1e-3)\n",
    "        peak = sig.find_peaks(-s.amp, prominence=np.max(peaks[1]['prominences']))\n",
    "        s.centerfreq = s.freq[peak[0][0]]\n",
    "    except:\n",
    "        pass\n",
    "    \"\"\" set VNA-frequency to resonant frequency \"\"\"\n",
    "    vna.set_nop(vna_nop)\n",
    "    vna.set_span(vna_span)\n",
    "    vna.set_centerfreq(s.centerfreq)\n",
    "    vna.set_bandwidth(vna_bw)\n",
    "    vna.set_Average(True)\n",
    "    vna.set_averages(vna_avg)\n",
    "    vna.pre_measurement()\n",
    "    mw_src.set_status(True)\n",
    "\n",
    "# x parameters for field sweep\n",
    "s.set_x_parameters(x_vec=current_points,\n",
    "                   x_coordname='current_bias', \n",
    "                   x_set_obj=x_function, \n",
    "                   x_unit='Amp')\n",
    "\n",
    "# log entry for centerfrequency\n",
    "s.set_log_function(func=(lambda: s.centerfreq, ),\n",
    "                   name=('centerfreq', ),\n",
    "                   unit=('Hz', ))"
   ]
  },
  {
   "cell_type": "code",
   "execution_count": null,
   "id": "02c86e63-b72a-4d7e-acb0-6547ee49393c",
   "metadata": {},
   "outputs": [],
   "source": [
    "vna.set_power(vna_power)"
   ]
  },
  {
   "cell_type": "code",
   "execution_count": 29,
   "id": "dcd407f8-0283-451d-8cb4-c7767bafad09",
   "metadata": {},
   "outputs": [],
   "source": [
    "IVD.ramp_current(s.x_vec[0], dc_start)\n",
    "x_function(s.x_vec[0])"
   ]
  },
  {
   "cell_type": "code",
   "execution_count": 30,
   "id": "8dc32b1d-0d61-47d3-ac5e-e2a04d3cffc8",
   "metadata": {},
   "outputs": [],
   "source": [
    "# y parameters for mw source\n",
    "s.set_y_parameters(y_vec=mw_points,\n",
    "                   y_coordname='mw_frequency', \n",
    "                   y_set_obj=mw_src.set_frequency, \n",
    "                   y_unit='Hz')"
   ]
  },
  {
   "cell_type": "code",
   "execution_count": 31,
   "id": "7ee9c664-cce2-4d9d-b2c8-adef85d1b27c",
   "metadata": {},
   "outputs": [
    {
     "data": {
      "text/plain": [
       "True"
      ]
     },
     "execution_count": 31,
     "metadata": {},
     "output_type": "execute_result"
    }
   ],
   "source": [
    "mw_src.set_frequency(mw_start)\n",
    "mw_src.set_power(mw_power)\n",
    "mw_src.set_status(True)"
   ]
  },
  {
   "cell_type": "code",
   "execution_count": 32,
   "id": "5762a986-3fea-4be8-b599-366987c85c1c",
   "metadata": {},
   "outputs": [],
   "source": [
    "s.comment = \"\"\"Directional coupler : -20dBm VNA, MW source: - 20 dBm external\"\"\"\n",
    "#s.comment = \"\"\"no directional coupler\"\"\""
   ]
  },
  {
   "cell_type": "code",
   "execution_count": 33,
   "id": "e9b99a95-f41b-452d-b1d9-e9eb03e206b8",
   "metadata": {
    "tags": []
   },
   "outputs": [
    {
     "ename": "NameError",
     "evalue": "name 'power_start' is not defined",
     "output_type": "error",
     "traceback": [
      "\u001b[1;31m---------------------------------------------------------------------------\u001b[0m",
      "\u001b[1;31mNameError\u001b[0m                                 Traceback (most recent call last)",
      "Cell \u001b[1;32mIn[33], line 3\u001b[0m\n\u001b[0;32m      1\u001b[0m name_extension \u001b[38;5;241m=\u001b[39m \u001b[38;5;124m\"\u001b[39m\u001b[38;5;124m\"\u001b[39m\n\u001b[0;32m      2\u001b[0m qkit\u001b[38;5;241m.\u001b[39mcfg[\u001b[38;5;124m'\u001b[39m\u001b[38;5;124muser\u001b[39m\u001b[38;5;124m'\u001b[39m]\u001b[38;5;241m=\u001b[39m dir_sample \u001b[38;5;241m+\u001b[39m \u001b[38;5;124mr\u001b[39m\u001b[38;5;124m'\u001b[39m\u001b[38;5;130;01m\\\\\u001b[39;00m\u001b[38;5;124mTwoTone_Power\u001b[39m\u001b[38;5;124m'\u001b[39m\n\u001b[1;32m----> 3\u001b[0m s\u001b[38;5;241m.\u001b[39mdirname \u001b[38;5;241m=\u001b[39m exp_name \u001b[38;5;241m+\u001b[39m \u001b[38;5;124m\"\u001b[39m\u001b[38;5;124m_2tone_\u001b[39m\u001b[38;5;124m\"\u001b[39m \u001b[38;5;241m+\u001b[39m \u001b[38;5;28mstr\u001b[39m(\u001b[38;5;28mround\u001b[39m(mw_start\u001b[38;5;241m/\u001b[39m\u001b[38;5;241m1e9\u001b[39m,\u001b[38;5;241m1\u001b[39m)) \u001b[38;5;241m+\u001b[39m \u001b[38;5;124m\"\u001b[39m\u001b[38;5;124m_to_\u001b[39m\u001b[38;5;124m\"\u001b[39m \u001b[38;5;241m+\u001b[39m \u001b[38;5;28mstr\u001b[39m(\u001b[38;5;28mround\u001b[39m(mw_stop\u001b[38;5;241m/\u001b[39m\u001b[38;5;241m1e9\u001b[39m,\u001b[38;5;241m1\u001b[39m)) \u001b[38;5;241m+\u001b[39m \u001b[38;5;124m\"\u001b[39m\u001b[38;5;124m_GHz_power_\u001b[39m\u001b[38;5;124m\"\u001b[39m \u001b[38;5;241m+\u001b[39m \u001b[38;5;28mstr\u001b[39m(\u001b[43mpower_start\u001b[49m) \u001b[38;5;241m+\u001b[39m \u001b[38;5;124m\"\u001b[39m\u001b[38;5;124m_to_\u001b[39m\u001b[38;5;124m\"\u001b[39m \u001b[38;5;241m+\u001b[39m \u001b[38;5;28mstr\u001b[39m(power_stop) \u001b[38;5;241m+\u001b[39m \u001b[38;5;124m\"\u001b[39m\u001b[38;5;124m_dBm\u001b[39m\u001b[38;5;124m\"\u001b[39m \u001b[38;5;241m+\u001b[39m name_extension\n",
      "\u001b[1;31mNameError\u001b[0m: name 'power_start' is not defined"
     ]
    }
   ],
   "source": [
    "name_extension = \"\"\n",
    "qkit.cfg['user']= dir_sample + r'\\\\TwoTone_Power'\n",
    "s.dirname = exp_name + \"_2tone_\" + str(round(mw_start/1e9,1)) + \"_to_\" + str(round(mw_stop/1e9,1)) + \"_GHz_power_\" + str(power_start) + \"_to_\" + str(power_stop) + \"_dBm\" + name_extension"
   ]
  },
  {
   "cell_type": "code",
   "execution_count": null,
   "id": "9f2f4ea0-80c6-445e-a377-f8659fa9cd49",
   "metadata": {},
   "outputs": [
    {
     "data": {
      "application/vnd.jupyter.widget-view+json": {
       "model_id": "d5a0893cb45744408875835ee8128a12",
       "version_major": 2,
       "version_minor": 0
      },
      "text/plain": [
       "HTML(value=\"<table style='width:100%'><tr><td> (0/5400) </td><td>&#9992; 2023-04-19 (Wed) 09:56:58    </td><td…"
      ]
     },
     "metadata": {},
     "output_type": "display_data"
    },
    {
     "data": {
      "application/vnd.jupyter.widget-view+json": {
       "model_id": "e024a3ac1e7249329de73bf400e624a2",
       "version_major": 2,
       "version_minor": 0
      },
      "text/plain": [
       "IntProgress(value=0, description='3D VNA sweep current_bias, mw_frequency', layout=Layout(width='95%'), max=54…"
      ]
     },
     "metadata": {},
     "output_type": "display_data"
    },
    {
     "name": "stdout",
     "output_type": "stream",
     "text": [
      "-0.000052A\r"
     ]
    }
   ],
   "source": [
    "mw_src.set_frequency(mw_start)\n",
    "mw_src.set_power(mw_power)\n",
    "mw_src.set_status(True)\n",
    "\n",
    "s.measure_3D()\n",
    "\n",
    "mw_src.set_status(False)"
   ]
  },
  {
   "cell_type": "code",
   "execution_count": null,
   "id": "27f8444e-af08-4df6-9cd2-e69d9b01d45f",
   "metadata": {},
   "outputs": [],
   "source": [
    "s.comment = \"\"\"Directional coupler : -20dBm VNA, MW @ Input, -10dBm @ MW source\"\"\""
   ]
  },
  {
   "cell_type": "code",
   "execution_count": null,
   "id": "2260915e-df37-470e-a7e6-ea6630047b94",
   "metadata": {},
   "outputs": [],
   "source": [
    "IVD.ramp_current(dc_start, dc_step, dc_time)\n",
    "IVD.set_measurement_mode(0)\n",
    "IVD.set_bias_mode(0)"
   ]
  },
  {
   "cell_type": "code",
   "execution_count": null,
   "id": "e149a209-c4f9-4f95-8490-8a3795741e4f",
   "metadata": {
    "tags": []
   },
   "outputs": [],
   "source": [
    "s.dirname = exp_name + \"_2tone_\" + str(round(mw_start/1e9,1)) + \"_to_\"  + str(round(mw_stop/1e9,1)) + \"_GHz_current_\" + str(round(dc_start/1e-3,1)) + \"_to_\"  + str(round(dc_stop/1e-3,1)) + \"_mA\"\n",
    "IVD.set_status(True)\n",
    "mw_src.set_status(True)\n",
    "s.measure_3D()\n",
    "mw_src.set_status(False)\n",
    "IVD.set_status(False)"
   ]
  },
  {
   "cell_type": "code",
   "execution_count": null,
   "id": "411149f6-f5f3-4453-8bd7-2fef4e0e9e12",
   "metadata": {},
   "outputs": [],
   "source": [
    "IVD.set_status(False)\n",
    "IVD.get_status()"
   ]
  },
  {
   "cell_type": "markdown",
   "id": "c2940b6d",
   "metadata": {},
   "source": [
    "## 3D 2-tone B-field (current) sweep (readout resonator calibration + landscape)"
   ]
  },
  {
   "cell_type": "markdown",
   "id": "0ed89803-e7ef-4a8e-96c5-7f6e90136698",
   "metadata": {},
   "source": [
    "### readout resonator calibration test"
   ]
  },
  {
   "cell_type": "code",
   "execution_count": 37,
   "id": "548a9e82-f298-4578-9ef3-1436b81be9d6",
   "metadata": {},
   "outputs": [],
   "source": [
    "res_freq = vna.get_centerfreq()"
   ]
  },
  {
   "cell_type": "code",
   "execution_count": 35,
   "id": "de524de0-3714-4f10-9e39-00e8b3fa321f",
   "metadata": {},
   "outputs": [
    {
     "data": {
      "application/vnd.jupyter.widget-view+json": {
       "model_id": "58da3cfea7334f24808972e096c705d8",
       "version_major": 2,
       "version_minor": 0
      },
      "text/plain": [
       "HTML(value=\"<table style='width:100%'><tr><td> (0/20) </td><td>&#9992; 2023-04-13 (Thu) 14:22:51    </td><td>&…"
      ]
     },
     "metadata": {},
     "output_type": "display_data"
    },
    {
     "data": {
      "application/vnd.jupyter.widget-view+json": {
       "model_id": "3df71c7b1fa54e499ce64568f30c6aa9",
       "version_major": 2,
       "version_minor": 0
      },
      "text/plain": [
       "IntProgress(value=0, description='VNA_tracedata', layout=Layout(width='95%'), max=20)"
      ]
     },
     "metadata": {},
     "output_type": "display_data"
    },
    {
     "name": "stdout",
     "output_type": "stream",
     "text": [
      "C:\\data\\EDEL_18\\Alex\\RT1ZPN_VNA_tracedata_GeQCoS4Qv4_3_C28_r3\\RT1ZPN_VNA_tracedata_GeQCoS4Qv4_3_C28_r3.h5\n"
     ]
    }
   ],
   "source": [
    "# search for optimal working point of resonator (VNA)\n",
    "mw_src.set_status(False) # turn off mw source during search\n",
    "vna.set_nop(801)\n",
    "vna.set_centerfreq(res_freq)\n",
    "vna.set_span(40e6) # search the span aroud the resonator position\n",
    "vna.set_bandwidth(1000) # large IF bandwith, many averages\n",
    "vna.set_averages(20)\n",
    "vna.set_Average(True)\n",
    "\n",
    "\n",
    "s.measure_1D()"
   ]
  },
  {
   "cell_type": "code",
   "execution_count": 16,
   "id": "fcd84a5e-32a2-4a3d-a25c-79e2a946d0df",
   "metadata": {},
   "outputs": [],
   "source": [
    "s.freq = vna.get_freqpoints()\n",
    "s.amp, s.pha = vna.get_tracedata() # dataset with the amp and phase data to tind the resonator"
   ]
  },
  {
   "cell_type": "code",
   "execution_count": 17,
   "id": "d316365f-6625-41cd-ae21-14a16579d96d",
   "metadata": {},
   "outputs": [
    {
     "data": {
      "text/plain": [
       "[<matplotlib.lines.Line2D at 0x2a975fc6c10>]"
      ]
     },
     "execution_count": 17,
     "metadata": {},
     "output_type": "execute_result"
    },
    {
     "data": {
      "image/png": "[encoded data removed]",
      "text/plain": [
       "<Figure size 432x288 with 1 Axes>"
      ]
     },
     "metadata": {
      "needs_background": "light"
     },
     "output_type": "display_data"
    }
   ],
   "source": [
    "plt.plot(s.freq, -np.gradient(s.pha))\n",
    "pha_savgol = -sig.savgol_filter(s.pha, window_length=9, polyorder=3, deriv=1)\n",
    "plt.plot(s.freq, pha_savgol)"
   ]
  },
  {
   "cell_type": "code",
   "execution_count": 22,
   "id": "d2f9f896-7336-4e52-aaad-9e28e68917d3",
   "metadata": {},
   "outputs": [
    {
     "name": "stdout",
     "output_type": "stream",
     "text": [
      "7.848 GHz\n"
     ]
    }
   ],
   "source": [
    "# Savitzky-Golay-Filter\n",
    "pha_savgol = -sig.savgol_filter(s.pha, window_length=9, polyorder=3, deriv=1)\n",
    "#print(pha_savgol)\n",
    "peaks = sig.find_peaks(pha_savgol, prominence= 4e-2)\n",
    "peak = sig.find_peaks(pha_savgol, prominence=np.max(peaks[1]['prominences']))\n",
    "s.centerfreq = s.freq[peak[0][0]]\n",
    "print(str(round(s.centerfreq/1e9, 3)) + \" GHz\")"
   ]
  },
  {
   "cell_type": "code",
   "execution_count": 42,
   "id": "e32352b3-5ff6-458e-8d19-704f355cc833",
   "metadata": {},
   "outputs": [
    {
     "data": {
      "text/plain": [
       "[<matplotlib.lines.Line2D at 0x23b542bca90>]"
      ]
     },
     "execution_count": 42,
     "metadata": {},
     "output_type": "execute_result"
    },
    {
     "data": {
      "image/png": "[encoded data removed]",
      "text/plain": [
       "<Figure size 640x480 with 1 Axes>"
      ]
     },
     "metadata": {},
     "output_type": "display_data"
    }
   ],
   "source": [
    "plt.plot(s.freq, -s.amp)"
   ]
  },
  {
   "cell_type": "code",
   "execution_count": 70,
   "id": "86081e6e-0bb1-4ed9-8b7f-a1220edc1a05",
   "metadata": {},
   "outputs": [
    {
     "name": "stdout",
     "output_type": "stream",
     "text": [
      "7.642 GHz\n"
     ]
    }
   ],
   "source": [
    "peaks = sig.find_peaks(-s.amp, prominence= 1e-3)\n",
    "peak = sig.find_peaks(-s.amp, prominence=np.max(peaks[1]['prominences']))\n",
    "s.centerfreq = s.freq[peak[0][0]]\n",
    "print(str(round(s.centerfreq/1e9, 3)) + \" GHz\")\n",
    "#print(peaks)"
   ]
  },
  {
   "cell_type": "markdown",
   "id": "3199bd8a-6c33-4b13-9b6a-345468489b58",
   "metadata": {},
   "source": [
    "### Measurement setup"
   ]
  },
  {
   "cell_type": "code",
   "execution_count": 37,
   "id": "2c1a6bef-96ab-46c4-a08e-28e085df6c8e",
   "metadata": {},
   "outputs": [],
   "source": [
    "qkit.instruments.remove(\"vna\")"
   ]
  },
  {
   "cell_type": "code",
   "execution_count": 38,
   "id": "20817bf0-bd2e-43fd-bc92-20cda965f860",
   "metadata": {},
   "outputs": [
    {
     "name": "stderr",
     "output_type": "stream",
     "text": [
      "2022-12-22 16:25:21 [WARNING ]: Instrument \"VNA\" already exists, removing (instrument_tools.py:222)\n"
     ]
    }
   ],
   "source": [
    "vna = qkit.instruments.create(\"VNA\", \"Keysight_VNA_E5080B\", address=\"TCPIP0::10.22.197.136::INSTR\")\n",
    "from qkit.measure.spectroscopy.spectroscopy import spectrum\n",
    "s = spectrum(vna)"
   ]
  },
  {
   "cell_type": "code",
   "execution_count": 28,
   "id": "2e0c16ff-c698-408e-8c21-8a006a4be8d5",
   "metadata": {},
   "outputs": [
    {
     "data": {
      "text/plain": [
       "True"
      ]
     },
     "execution_count": 28,
     "metadata": {},
     "output_type": "execute_result"
    }
   ],
   "source": [
    "vna.set_measurement_parameter('S21')\n",
    "vna.set_power(-30)\n",
    "vna.set_bandwidth(500)\n",
    "vna.set_span(40e6)"
   ]
  },
  {
   "cell_type": "code",
   "execution_count": 29,
   "id": "1e6729d9",
   "metadata": {},
   "outputs": [],
   "source": [
    "# Measurement parameter\n",
    "\n",
    "# field bias\n",
    "dc_start = -8.0e-3 # A\n",
    "dc_stop = 15.0e-3 # A\n",
    "dc_step = 0.25e-3 # A\n",
    "dc_time = 0.1\n",
    "\n",
    "# mw drive\n",
    "mw_start = 8.7e9 # Hz\n",
    "mw_stop = 9.65e9 # Hz\n",
    "mw_step = 5e6 # Hz\n",
    "mw_power = -10\n",
    "\n",
    "# VNA\n",
    "vna_avg = 10\n",
    "vna_bandwith = 50\n",
    "vna_span = 5e6\n",
    "vna_power = -30\n",
    "\n",
    "vna.set_power(vna_power)\n",
    "res_freq = vna.get_centerfreq()"
   ]
  },
  {
   "cell_type": "code",
   "execution_count": 30,
   "id": "126ce8f3",
   "metadata": {},
   "outputs": [],
   "source": [
    "def x_function(i):\n",
    "    # set current source\n",
    "    #IVD.set_current(i)\n",
    "    \n",
    "    IVD.ramp_current(i, dc_step, dc_time)\n",
    "    \n",
    "    # search for optimal working point of resonator (VNA)\n",
    "    mw_src.set_status(False) # turn off mw source during search\n",
    "    vna.set_nop(801)\n",
    "    vna.set_centerfreq(res_freq)\n",
    "    vna.set_span(40e6) # search the span aroud the resonator position\n",
    "    vna.set_bandwidth(1000) # large IF bandwith, many averages\n",
    "    vna.set_averages(20)\n",
    "    vna.set_Average(True)\n",
    "\n",
    "    vna.pre_measurement()\n",
    "    vna.start_measurement()\n",
    "    while not vna.ready(): # wait till end of measurement\n",
    "        time.sleep(1e-1)\n",
    "    s.freq = vna.get_freqpoints()\n",
    "    s.amp, s.pha = vna.get_tracedata() # dataset with the amp and phase data to tind the resonator\n",
    "    try:\n",
    "        # Savitzky-Golay-Filter\n",
    "        pha_savgol = -sig.savgol_filter(s.pha, window_length=9, polyorder=3, deriv=1)\n",
    "        peaks = sig.find_peaks(pha_savgol, prominence=4e-2)\n",
    "        peak = sig.find_peaks(pha_savgol, prominence=np.max(peaks[1]['prominences']))\n",
    "        s.centerfreq = s.freq[peak[0][0]]\n",
    "    except:\n",
    "        pass\n",
    "    \"\"\" set VNA-frequency to resonant frequency \"\"\"\n",
    "    vna.set_nop(1)\n",
    "    vna.set_span(vna_span)\n",
    "    vna.set_centerfreq(s.centerfreq)\n",
    "    vna.set_bandwidth(vna_bandwith)\n",
    "    vna.set_Average(True)\n",
    "    vna.set_averages(vna_avg)\n",
    "    vna.pre_measurement()\n",
    "    mw_src.set_status(True)\n",
    "\n",
    "# x parameters for field sweep\n",
    "s.set_x_parameters(x_vec=np.arange(dc_start, dc_stop+dc_step, dc_step),\n",
    "                   x_coordname='current_bias', \n",
    "                   x_set_obj=x_function, \n",
    "                   x_unit='Amp')\n",
    "\n",
    "# log entry for centerfrequency\n",
    "s.set_log_function(func=(lambda: s.centerfreq, ),\n",
    "                   name=('centerfreq', ),\n",
    "                   unit=('Hz', ))"
   ]
  },
  {
   "cell_type": "code",
   "execution_count": 31,
   "id": "713de345-1d4f-4554-87a1-8deb7a8ebce6",
   "metadata": {},
   "outputs": [],
   "source": [
    "IVD.ramp_current(s.x_vec[0], 1e-3)\n",
    "x_function(s.x_vec[0])"
   ]
  },
  {
   "cell_type": "code",
   "execution_count": 32,
   "id": "aa54c933-3f6e-4d1a-84ad-0f1000170765",
   "metadata": {},
   "outputs": [],
   "source": [
    "# y parameters for mw source\n",
    "def y_function(i):\n",
    "    if i == 0:\n",
    "        mw_src.set_status(False)\n",
    "    else:\n",
    "        mw_src.set_frequency(i)\n",
    "        mw_src.set_status(True)\n",
    "        #mw_src.set_power(-27.5 + 2.5e-9 * i) # overcome frequency dependent cable attenuation\n",
    "\n",
    "s.set_y_parameters(y_vec=np.arange(mw_start, mw_stop, mw_step),\n",
    "                   y_coordname='mw_frequency', \n",
    "                   y_set_obj=mw_src.set_frequency, \n",
    "                   y_unit='Hz')"
   ]
  },
  {
   "cell_type": "code",
   "execution_count": 33,
   "id": "5fc1602b-8854-4cbe-9dea-5fd1d00f7381",
   "metadata": {},
   "outputs": [
    {
     "data": {
      "text/plain": [
       "True"
      ]
     },
     "execution_count": 33,
     "metadata": {},
     "output_type": "execute_result"
    }
   ],
   "source": [
    "mw_src.set_frequency(mw_start)\n",
    "mw_src.set_power(mw_power)\n",
    "mw_src.set_status(True)"
   ]
  },
  {
   "cell_type": "code",
   "execution_count": 34,
   "id": "783444c4-58d0-4201-94e0-4c5beabebaca",
   "metadata": {},
   "outputs": [
    {
     "name": "stdout",
     "output_type": "stream",
     "text": [
      "0.9424245416666667 2023-01-20 15:48:08.074092\n"
     ]
    },
    {
     "data": {
      "text/plain": [
       "0.9424245416666667"
      ]
     },
     "execution_count": 34,
     "metadata": {},
     "output_type": "execute_result"
    }
   ],
   "source": [
    "estimate_measurement_time(dim=3)"
   ]
  },
  {
   "cell_type": "markdown",
   "id": "c63c9b75-9f70-4227-be9b-8a51a2cbf5f1",
   "metadata": {},
   "source": [
    "### landscape scan"
   ]
  },
  {
   "cell_type": "code",
   "execution_count": 35,
   "id": "6c770840-a248-4212-b054-04ebe3282a89",
   "metadata": {},
   "outputs": [],
   "source": [
    "# 7_C5, Qubit 2\n",
    "\n",
    "I, f = np.array((\n",
    "(-0.0195, 7.37 ),\n",
    "(-0.019, 7.515 ),\n",
    "(-0.018, 7.705 ),\n",
    "(-0.0165, 7.86 ),\n",
    "(-0.016, 8.035 ),\n",
    "(-0.015, 8.33 ),\n",
    "(-0.014, 8.425 ),\n",
    "(-0.013, 8.565 ),\n",
    "(-0.012, 8.655 ),\n",
    "(-0.011, 8.815 ),\n",
    "(-0.01,  8.925 ),\n",
    "(-0.009, 9.025 ),\n",
    "(-0.008, 9.105 ),\n",
    "(-0.007, 9.17 ),\n",
    "(-0.006, 9.245 ),\n",
    "(-0.005, 9.3 ),\n",
    "(-0.004, 9.355 ),\n",
    "(-0.003, 9.41 ),\n",
    "(-0.002, 9.455 ),\n",
    "(-0.001, 9.49 ),\n",
    "(0, 9.5 ),\n",
    "(0.001, 9.52 ),\n",
    "(0.002, 9.525 ),\n",
    "(0.003, 9.53 ),\n",
    "(0.004, 9.53 ),\n",
    "(0.005, 9.52 ),\n",
    "(0.006, 9.505 ),\n",
    "(0.007, 9.48 ),\n",
    "(0.008, 9.45 ),\n",
    "(0.009, 9.405 ),\n",
    "(0.01,  9.375 ),\n",
    "(0.011, 9.32 ),\n",
    "(0.012, 9.27 ),\n",
    "(0.013, 9.19 ),\n",
    "(0.014, 9.1 ),\n",
    "(0.015, 9.07 ),\n",
    "(0.0155,  9.085 ),\n",
    "(0.016,  9.055 ),\n",
    "(0.0165,  9.035 ),\n",
    "(0.017, 8.975 ),\n",
    "(0.018 ,  8.905 ),\n",
    "(0.0185, 8.83 ),\n",
    "(0.019, 8.785 ),\n",
    "(0.0195,  8.705 ),\n",
    "(0.02, 8.67 ),\n",
    ")).T"
   ]
  },
  {
   "cell_type": "code",
   "execution_count": 36,
   "id": "f131ab5f-5cfe-4407-8f4a-4bf18aa9b5d8",
   "metadata": {},
   "outputs": [],
   "source": [
    "# 7_C5, Qubit 1\n",
    "\n",
    "I, f = np.array((\n",
    "(-0.0144, 8.045), \n",
    "(-0.0144, 8.055), \n",
    "(-0.0142, 8.135), \n",
    "(-0.0141, 8.185), \n",
    "(-0.014, 8.235), \n",
    "(-0.0139, 8.255), \n",
    "(-0.0134, 8.35), \n",
    "(-0.0134, 8.38), \n",
    "(-0.0132, 8.48), \n",
    "(-0.0128, 8.55), \n",
    "(-0.0126, 8.575), \n",
    "(-0.0122, 8.625), \n",
    "(-0.0117, 8.685), \n",
    "(-0.0112, 8.735), \n",
    "(-0.0109, 8.78), \n",
    "(-0.0105, 8.83), \n",
    "(-0.0102, 8.865), \n",
    "(-0.0099, 8.89), \n",
    "(-0.0094, 8.94), \n",
    "(-0.0089, 8.975), \n",
    "(-0.0082, 9.025), \n",
    "(-0.008, 9.04), \n",
    "(-0.0075, 9.08), \n",
    "(-0.007,  9.12), \n",
    "(-0.0066, 9.15), \n",
    "(-0.0063, 9.175), \n",
    "(-0.0056, 9.23), \n",
    "(-0.0053, 9.25), \n",
    "(-0.0048, 9.29), \n",
    "(-0.0043, 9.335), \n",
    "(-0.0038, 9.36), \n",
    "(-0.0035, 9.37), \n",
    "(-0.0027, 9.385), \n",
    "(-0.0023, 9.405), \n",
    "(-0.0019, 9.425), \n",
    "(-0.0018, 9.44), \n",
    "(-0.0011, 9.455), \n",
    "(-0.0004, 9.48), \n",
    "(-0.0001, 9.49), \n",
    "(0.0007, 9.505), \n",
    "(0.0016, 9.52), \n",
    "(0.0019, 9.53), \n",
    "(0.0026, 9.535), \n",
    "(0.0031, 9.53), \n",
    "(0.0037, 9.52), \n",
    "(0.0041, 9.52), \n",
    "(0.0046, 9.535), \n",
    "(0.0048, 9.535), \n",
    "(0.0053, 9.535), \n",
    "(0.0054, 9.535), \n",
    "(0.0057, 9.53), \n",
    "(0.0064, 9.52), \n",
    "(0.007,  9.51), \n",
    "(0.0077, 9.495), \n",
    "(0.0085, 9.475), \n",
    "(0.0088, 9.465), \n",
    "(0.0092, 9.445), \n",
    "(0.0097, 9.425), \n",
    "(0.01, 9.41), \n",
    "(0.0105, 9.385), \n",
    "(0.0108, 9.37), \n",
    "(0.0114, 9.345), \n",
    "(0.0119, 9.325), \n",
    "(0.0124, 9.3), \n",
    "(0.0126, 9.28), \n",
    "(0.0133, 9.25), \n",
    "(0.0133, 9.24), \n",
    "(0.0136, 9.225), \n",
    "(0.0142, 9.18), \n",
    "(0.0144, 9.17), \n",
    "(0.0148, 9.13), \n",
    "(0.0152, 9.12), \n",
    "(0.0157, 9.08), \n",
    "(0.0159, 9.07), \n",
    "(0.0161, 9.045), \n",
    "(0.0166, 9.005), \n",
    "(0.0169, 8.99), \n",
    "(0.0172, 8.965), \n",
    "(0.0176, 8.905), \n",
    ")).T"
   ]
  },
  {
   "cell_type": "code",
   "execution_count": 37,
   "id": "20516e57-c06d-4854-907a-e860a12972f2",
   "metadata": {},
   "outputs": [],
   "source": [
    "\n",
    "#delta_f = 0.1\n",
    "delta_f = -0.1\n",
    "delta_I = 0\n",
    "\n",
    "for i in range(len(f)):\n",
    "    f[i] = f[i] + delta_f\n",
    "    I[i] = I[i] + delta_I\n"
   ]
  },
  {
   "cell_type": "code",
   "execution_count": 38,
   "id": "a2a49890-b766-4c79-9602-47ba83bb5b2c",
   "metadata": {},
   "outputs": [],
   "source": [
    "# fit functions for the (I,f)-curve\n",
    "\n",
    "def f_hyp(x, a, b, c):\n",
    "    \"hyperbolic function with the form y = sqrt[ a*(x-b)**2 + c ]\"\n",
    "    return np.sqrt(a * (x - b) ** 2 + c)\n",
    "\n",
    "def f_par(x, a, b, c):\n",
    "    \"parabolic function with the form y = a*(x-b)**2 + c ]\"\n",
    "    return (a * (x - b) ** 2 + c)"
   ]
  },
  {
   "cell_type": "code",
   "execution_count": 39,
   "id": "65402bf6-737a-47b0-93ff-5d48dd51bdc2",
   "metadata": {},
   "outputs": [
    {
     "data": {
      "text/plain": [
       "[<matplotlib.lines.Line2D at 0x26805077c40>]"
      ]
     },
     "execution_count": 39,
     "metadata": {},
     "output_type": "execute_result"
    },
    {
     "data": {
      "image/png": "[encoded data removed]",
      "text/plain": [
       "<Figure size 432x288 with 1 Axes>"
      ]
     },
     "metadata": {
      "needs_background": "light"
     },
     "output_type": "display_data"
    }
   ],
   "source": [
    "I_fit = np.linspace(min(I), max(I), 1001)\n",
    "popt, pcov = opt.curve_fit(f_par, xdata=I, ydata=f, p0=(-0.1, 0, 10.42))\n",
    "f_fit = f_par(I_fit, *popt)\n",
    "\n",
    "\n",
    "\n",
    "plt.plot(I, f, '.')\n",
    "plt.plot(I_fit, f_fit)"
   ]
  },
  {
   "cell_type": "code",
   "execution_count": 40,
   "id": "c835ac3b-049e-4f3b-a175-c0d12ac5a670",
   "metadata": {},
   "outputs": [
    {
     "name": "stdout",
     "output_type": "stream",
     "text": [
      "xz_landscape deleted\n"
     ]
    }
   ],
   "source": [
    "s.landscape.delete_landscape_function_xy()\n",
    "s.landscape.delete_landscape_function_xz()\n",
    "s.landscape.generate_fit_function_xy(curve_f='parab',\n",
    "                                     curve_p=[I, f],\n",
    "                                     p0=popt,\n",
    "                                     y_span=750e6\n",
    "                                    )"
   ]
  },
  {
   "cell_type": "code",
   "execution_count": 41,
   "id": "fbc3ccf8-7b3c-45c1-b48d-0a8f5df3fbee",
   "metadata": {},
   "outputs": [
    {
     "data": {
      "text/plain": [
       "[{'center_points': array([8.90363928e+09, 8.92666777e+09, 8.94921680e+09, 8.97128637e+09,\n",
       "         8.99287647e+09, 9.01398711e+09, 9.03461829e+09, 9.05477001e+09,\n",
       "         9.07444226e+09, 9.09363505e+09, 9.11234839e+09, 9.13058225e+09,\n",
       "         9.14833666e+09, 9.16561160e+09, 9.18240709e+09, 9.19872311e+09,\n",
       "         9.21455966e+09, 9.22991676e+09, 9.24479439e+09, 9.25919257e+09,\n",
       "         9.27311128e+09, 9.28655052e+09, 9.29951031e+09, 9.31199063e+09,\n",
       "         9.32399149e+09, 9.33551289e+09, 9.34655483e+09, 9.35711730e+09,\n",
       "         9.36720032e+09, 9.37680387e+09, 9.38592795e+09, 9.39457258e+09,\n",
       "         9.40273774e+09, 9.41042345e+09, 9.41762969e+09, 9.42435646e+09,\n",
       "         9.43060378e+09, 9.43637163e+09, 9.44166003e+09, 9.44646896e+09,\n",
       "         9.45079842e+09, 9.45464843e+09, 9.45801897e+09, 9.46091005e+09,\n",
       "         9.46332167e+09, 9.46525383e+09, 9.46670652e+09, 9.46767975e+09,\n",
       "         9.46817353e+09, 9.46818783e+09, 9.46772268e+09, 9.46677806e+09,\n",
       "         9.46535399e+09, 9.46345045e+09, 9.46106744e+09, 9.45820498e+09,\n",
       "         9.45486305e+09, 9.45104167e+09, 9.44674081e+09, 9.44196050e+09,\n",
       "         9.43670073e+09, 9.43096149e+09, 9.42474279e+09, 9.41804463e+09,\n",
       "         9.41086701e+09, 9.40320992e+09, 9.39507337e+09, 9.38645736e+09,\n",
       "         9.37736189e+09, 9.36778696e+09, 9.35773256e+09, 9.34719871e+09,\n",
       "         9.33618539e+09, 9.32469260e+09, 9.31272036e+09, 9.30026865e+09,\n",
       "         9.28733748e+09, 9.27392685e+09, 9.26003676e+09, 9.24566721e+09,\n",
       "         9.23081819e+09, 9.21548971e+09, 9.19968177e+09, 9.18339437e+09,\n",
       "         9.16662750e+09, 9.14938117e+09, 9.13165538e+09, 9.11345013e+09,\n",
       "         9.09476542e+09, 9.07560124e+09, 9.05595760e+09, 9.03583450e+09,\n",
       "         9.01523194e+09]),\n",
       "  'y_span': 750000000.0,\n",
       "  'x_range': [-0.008, 0.01500000000000002],\n",
       "  'blacklist': False}]"
      ]
     },
     "execution_count": 41,
     "metadata": {},
     "output_type": "execute_result"
    }
   ],
   "source": [
    "s.landscape.xylandscapes[0]['center_points'] *= 1e9\n",
    "s.landscape.xylandscapes"
   ]
  },
  {
   "cell_type": "code",
   "execution_count": 42,
   "id": "b9ded267-edcb-4438-ac72-305a108ad5e3",
   "metadata": {},
   "outputs": [
    {
     "data": {
      "image/png": "[encoded data removed]",
      "text/plain": [
       "<Figure size 432x288 with 1 Axes>"
      ]
     },
     "metadata": {
      "needs_background": "light"
     },
     "output_type": "display_data"
    }
   ],
   "source": [
    "s.landscape.plot_xy_landscape()"
   ]
  },
  {
   "cell_type": "code",
   "execution_count": 43,
   "id": "8a3aa92c-c749-4320-ba05-0db3ac552056",
   "metadata": {},
   "outputs": [],
   "source": [
    "IVD.ramp_current(dc_start, dc_step, dc_time)\n",
    "IVD.set_measurement_mode(0)\n",
    "IVD.set_bias_mode(0)"
   ]
  },
  {
   "cell_type": "code",
   "execution_count": 44,
   "id": "609198bb-cb13-4c24-8363-10883f9a61e3",
   "metadata": {},
   "outputs": [
    {
     "data": {
      "application/vnd.jupyter.widget-view+json": {
       "model_id": "456810742fe84e04aa3249a7ff0c961f",
       "version_major": 2,
       "version_minor": 0
      },
      "text/plain": [
       "HTML(value=\"<table style='width:100%'><tr><td> (0/12287) </td><td>&#9992; 2023-01-20 (Fri) 15:30:55    </td><t…"
      ]
     },
     "metadata": {},
     "output_type": "display_data"
    },
    {
     "data": {
      "application/vnd.jupyter.widget-view+json": {
       "model_id": "a8cbd7066c7e4e7a86f3ee65473ed0f5",
       "version_major": 2,
       "version_minor": 0
      },
      "text/plain": [
       "IntProgress(value=0, description='3D VNA sweep GeQCoS4Qv3_7C5_res1_2tone_3D_landscape_current_-8.0_to_15.0_mA'…"
      ]
     },
     "metadata": {},
     "output_type": "display_data"
    },
    {
     "name": "stdout",
     "output_type": "stream",
     "text": [
      "D:\\data\\EDEL_15\\Alex\\ROSEI0_3D_GeQCoS4Qv3_7C5_res1_2tone_3D_landscape_current_-8.0_to_15.0_mA\\ROSEI0_3D_GeQCoS4Qv3_7C5_res1_2tone_3D_landscape_current_-8.0_to_15.0_mA.h5\n"
     ]
    }
   ],
   "source": [
    "#s.dirname = \"GeQCoSv3_7_res_3_2tone_3D_landscape_current_\" + str(round(dc_start/1e-3,1)) + \"_to_\"  + str(round(dc_stop/1e-3,1)) + \"_mA\"\n",
    "s.dirname = exp_name + \"_2tone_3D_landscape_current_\" + str(round(dc_start/1e-3,1)) + \"_to_\"  + str(round(dc_stop/1e-3,1)) + \"_mA\"\n",
    "IVD.set_status(True)\n",
    "mw_src.set_status(True)\n",
    "vna.get_all()\n",
    "s.measure_3D()\n",
    "mw_src.set_status(False)\n",
    "IVD.set_status(False)"
   ]
  },
  {
   "cell_type": "code",
   "execution_count": 45,
   "id": "d6d1885f-7eac-42c5-af00-f0d5c990dd5d",
   "metadata": {},
   "outputs": [
    {
     "data": {
      "text/plain": [
       "False"
      ]
     },
     "execution_count": 45,
     "metadata": {},
     "output_type": "execute_result"
    },
    {
     "name": "stdout",
     "output_type": "stream",
     "text": [
      "Plots saved in D:\\data\\EDEL_15\\Alex\\ROSEI0_3D_GeQCoS4Qv3_7C5_res1_2tone_3D_landscape_current_-8.0_to_15.0_mA\\images\n"
     ]
    }
   ],
   "source": [
    "IVD.set_status(False)\n",
    "IVD.get_status()"
   ]
  },
  {
   "cell_type": "code",
   "execution_count": null,
   "id": "70e808cc-e553-4a61-8bf3-65bbaa85c55c",
   "metadata": {},
   "outputs": [],
   "source": [
    "get_wiki_entry()"
   ]
  },
  {
   "cell_type": "code",
   "execution_count": null,
   "id": "6f3aa051-6c73-4a11-9e43-13ceec988223",
   "metadata": {},
   "outputs": [],
   "source": []
  }
 ],
 "metadata": {
  "kernelspec": {
   "display_name": "Python 3 (ipykernel)",
   "language": "python",
   "name": "python3"
  },
  "language_info": {
   "codemirror_mode": {
    "name": "ipython",
    "version": 3
   },
   "file_extension": ".py",
   "mimetype": "text/x-python",
   "name": "python",
   "nbconvert_exporter": "python",
   "pygments_lexer": "ipython3",
   "version": "3.8.16"
  }
 },
 "nbformat": 4,
 "nbformat_minor": 5
}
